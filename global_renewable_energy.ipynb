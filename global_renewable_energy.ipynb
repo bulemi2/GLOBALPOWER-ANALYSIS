{
 "cells": [
  {
   "cell_type": "markdown",
   "metadata": {
    "id": "iDQI9YrfPKlG"
   },
   "source": [
    "# GLOBAL POWER PLANT ANALYSIS"
   ]
  },
  {
   "cell_type": "markdown",
   "metadata": {
    "id": "wsZCQeQ_PKlJ"
   },
   "source": [
    "![Power Plants](powerlines_snapshot.jpg)"
   ]
  },
  {
   "cell_type": "markdown",
   "metadata": {
    "id": "9tB-wjmmPKlT"
   },
   "source": [
    "***\n",
    "Notebook Authors:\n",
    "\n",
    "  [David Ambani](https://github.com/bulemi2)<br>\n",
    "  [Cynthia Kareko](https://github.com/karekocyn)<br>\n",
    "  [Joy Wangui](https://github.com/carfew001)<br>\n",
    "  [Emmanuel Rono](https://github.com/marttech26)<br>\n",
    "\n",
    "***"
   ]
  },
  {
   "cell_type": "markdown",
   "metadata": {
    "id": "L0qK3KXKPKlV"
   },
   "source": [
    "## 1. PROJECT OVERVIEW"
   ]
  },
  {
   "cell_type": "markdown",
   "metadata": {
    "id": "YCtxhW12PKlW"
   },
   "source": [
    "### (a) Introduction"
   ]
  },
  {
   "cell_type": "markdown",
   "metadata": {
    "id": "nuRk3fDJPKlX"
   },
   "source": [
    "Investigating the global renewable energy landscape, this project plays a crucial role in uncovering complex patterns, identifying trends, and extracting meaningful insights. Our main goal is to provide a comprehensive understanding of renewable energy generation, capacity, and the changing importance of different renewable energy sources worldwide. Through rigorous analysis and predictive modeling methods, we aim to shed light on the past, present, and future dynamics of renewable energy production globally. In doing so, we seek to provide valuable insights to stakeholders, shaping the discourse on sustainable energy and enriching our collective knowledge of renewable energy infrastructure worldwide."
   ]
  },
  {
   "cell_type": "markdown",
   "metadata": {
    "id": "609lHJZWPKlY"
   },
   "source": [
    " ### (b) Business Understanding"
   ]
  },
  {
   "cell_type": "markdown",
   "metadata": {
    "id": "wzt8Z6hwPKlZ"
   },
   "source": [
    "In the current era marked by energy transitions and growing sustainability imperatives, the Global Renewable Energy Generation and Capacity Analysis project endeavors to decode the intricacies of the global renewable energy landscape. Through an in-depth exploration of various renewable energy sources, their capacities, and their contributions to renewable energy generation, the project aims to offer a comprehensive overview of the global renewable energy ecosystem. These insights will equip stakeholders, policymakers, and investors with valuable knowledge about the factors influencing the renewable energy industry, enabling informed decision-making in this rapidly evolving and crucial sector.\n",
    "\n",
    "This Global Renewable Energy Analysis is set to benefit the following stakeholders;\n",
    "\n",
    "- Power generation companies-Strategic planning\n",
    "- Environmental Agencies-Providing environmental impact assessment\n",
    "- Researchers and Academia-Contributing to advancements in energy studies\n",
    "- Local communities-Informed community engagement\n",
    "- Technology providers-Market identification and growth opportunities\n",
    "- Government and Regulatory Bodies-Informed decision making\n",
    "- Energy companies and investors looking for opportunities in the renewable energy market.\n"
   ]
  },
  {
   "cell_type": "markdown",
   "metadata": {
    "id": "Po9W3mE8PKla"
   },
   "source": [
    "### (c) Problem Statement"
   ]
  },
  {
   "cell_type": "markdown",
   "metadata": {
    "id": "5T4lOe0jPKlb"
   },
   "source": [
    "The absence of a comprehensive analysis of global renewable energy data impedes stakeholders' ability to make informed decisions in the evolving energy landscape. There is a pressing need for a systematic exploration of renewable energy generation, capacity trends, and the impact of renewable energy sources on global energy production. This project aims to address the lack of actionable insights, which hinders effective decision-making for governments, investors, and energy companies, by providing a clear understanding of the global renewable energy scenario through data-driven analysis.\n",
    "\n",
    "Our strategic approach involves a meticulous examination of data preprocessing, thoughtful selection of modeling techniques, and the establishment of robust evaluation metrics. This comprehensive methodology seeks to offer a detailed exploration of the global renewable energy landscape, enabling stakeholders to make well-informed decisions in a rapidly transforming sector. The ultimate objective is to bridge the gap in actionable insights, facilitating informed decision-making and promoting a deeper understanding of the intricate dynamics shaping the global renewable energy infrastructure."
   ]
  },
  {
   "cell_type": "markdown",
   "metadata": {
    "id": "-yBIBL6pPKlc"
   },
   "source": [
    "### (d) Research Questions"
   ]
  },
  {
   "cell_type": "markdown",
   "metadata": {
    "id": "3uOkYwWdPKlc"
   },
   "source": [
    "- How has the production of electricity from renewable sources changed over time? <br>\n",
    "\n",
    "- Which renewable energy source shows the most significant growth, and what are the underlying reasons for this trend?<br>\n",
    "\n",
    "- To what extent has the adoption of renewable energy sources impacted the overall energy mix, and what are the key challenges and opportunities associated with integrating renewable technologies into the global power infrastructure?<br>"
   ]
  },
  {
   "cell_type": "markdown",
   "metadata": {
    "id": "8UTYa3ZPPKld"
   },
   "source": [
    "### (e) The Main Objective"
   ]
  },
  {
   "cell_type": "markdown",
   "metadata": {
    "id": "GJbH0RrdPKld"
   },
   "source": [
    "To construct a predictive model utilizing the examination of worldwide renewable energy data to precisely anticipate the generation of renewable energy from various other sources."
   ]
  },
  {
   "cell_type": "markdown",
   "metadata": {
    "id": "DTb4zYRfPKle"
   },
   "source": [
    "### (f) The Specific Objectives"
   ]
  },
  {
   "cell_type": "markdown",
   "metadata": {
    "id": "mUG79Lc_PKle"
   },
   "source": [
    "\n",
    "Specific Objectives\n",
    "\n",
    "- To assess the role each renewable energy source plays in the overall energy blend.\n",
    "- To identify opportunities to enhance the portion of renewable energy in global electricity production, optimizing the shift towards sustainable sources.\n",
    "- To examine how renewable energy is distributed among different power regions."
   ]
  },
  {
   "cell_type": "markdown",
   "metadata": {
    "id": "QV5x6HABPKle"
   },
   "source": [
    "### (g) Data Understanding"
   ]
  },
  {
   "cell_type": "markdown",
   "metadata": {
    "id": "kOoXU2AoPKlf"
   },
   "source": [
    "Entity\tCode\tYear\tElectricity from wind - TWh\tElectricity from hydro - TWh\tElectricity from solar - TWh\tOther renewables including bioenergy - TWh\n",
    "\n",
    "The dataset contains the following columns with their descriptions:\n",
    "\n",
    "- `country` (text): 3 character country code corresponding to the ISO 3166-1 alpha-3 specification [4]\n",
    "- `country_long` (text): longer form of the country designation\n",
    "- `name` (text): name or title of the power plant, generally in Romanized form\n",
    "- `gppd_idnr` (text): 10 or 12 character identifier for the power plant\n",
    "- `capacity_mw` (number): electrical generating capacity in megawatts\n",
    "- `latitude` (number): geolocation in decimal degrees; WGS84 (EPSG:4326)\n",
    "- `longitude` (number): geolocation in decimal degrees; WGS84 (EPSG:4326)\n",
    "- `fuel (text): energy source used in electricity generation or export\n",
    "- `commissioning_year` (number): year of plant operation, weighted by unit-capacity when data is available\n",
    "- `owner` (text): majority shareholder of the power plant, generally in Romanized form\n",
    "- `source` (text): entity reporting the data; could be an organization, report, or document, generally in Romanized form\n",
    "- `url` (text): web document corresponding to the `source` field\n",
    "- `geolocation_source` (text): attribution for geolocation information\n",
    "- `year_of_capacity_data` (number): year the capacity information was reported\n",
    "- `generation_gwh_ (number): electricity generation in gigawatt-hours reported\n",
    "- `estimated_generation_gwh` (number): estimated annual electricity generation in gigawatt-hours\n",
    "\n",
    "The database is available for immediate download and use through the http://datasets.wri.org/dataset/globalpowerplantdatabase"
   ]
  },
  {
   "cell_type": "markdown",
   "metadata": {
    "id": "l6TXsgybPKlf"
   },
   "source": [
    "**Importing libraries**"
   ]
  },
  {
   "cell_type": "code",
   "execution_count": 1,
   "metadata": {
    "id": "rsAmTcG-PKlg"
   },
   "outputs": [],
   "source": [
    "# Data manipulation and analysis\n",
    "import pandas as pd  \n",
    "\n",
    "# Creating visualizations\n",
    "import matplotlib.pyplot as plt  \n",
    "\n",
    "# Statistical data visualization\n",
    "import seaborn as sns  \n",
    "\n",
    "# Numerical operations\n",
    "import numpy as np  \n",
    "\n",
    "# Working with geospatial data\n",
    "from geopy.distance import great_circle\n",
    "import geopandas as gpd\n",
    "\n",
    "# Handling date and time information\n",
    "import datetime as dt  \n",
    "\n",
    "# Mathematical functions\n",
    "import math  \n",
    "\n",
    "# Importing from functions.py\n",
    "from functions import plot_top_n, plot_top_and_bottom_countries_by_capacity, plot_capacity_generation_scatter, plot_power_plant_distribution\n",
    "\n",
    "# Importing machine learning libraries\n",
    "from sklearn.model_selection import train_test_split\n",
    "from sklearn.linear_model import LinearRegression\n",
    "from sklearn.metrics import mean_squared_error, r2_score\n",
    "from sklearn.preprocessing import StandardScaler\n",
    "from sklearn.decomposition import PCA\n",
    "from sklearn.ensemble import RandomForestRegressor\n",
    "from xgboost import XGBRegressor\n",
    "from sklearn.model_selection import cross_val_score\n",
    "from sklearn.pipeline import Pipeline\n",
    "\n",
    "from warnings import filterwarnings\n",
    "filterwarnings('ignore')\n",
    "\n",
    "%matplotlib inline"
   ]
  },
  {
   "cell_type": "markdown",
   "metadata": {
    "id": "23ND3VUUPKli"
   },
   "source": [
    "## 2. Data Cleaning"
   ]
  },
  {
   "cell_type": "code",
   "execution_count": 2,
   "metadata": {
    "id": "sUFJCePSPKli",
    "outputId": "ec78c35e-2ba5-40ad-edf6-60789218d6a2",
    "scrolled": true
   },
   "outputs": [],
   "source": [
    "# Read CSV file into data frame\n",
    "df = pd.read_csv('modern-renewable-prod.csv')"
   ]
  },
  {
   "cell_type": "code",
   "execution_count": 3,
   "metadata": {
    "id": "WRSW-fwPPKlj",
    "outputId": "91ae6057-040c-4e64-802a-ad827f62df74"
   },
   "outputs": [
    {
     "data": {
      "text/html": [
       "<div>\n",
       "<style scoped>\n",
       "    .dataframe tbody tr th:only-of-type {\n",
       "        vertical-align: middle;\n",
       "    }\n",
       "\n",
       "    .dataframe tbody tr th {\n",
       "        vertical-align: top;\n",
       "    }\n",
       "\n",
       "    .dataframe thead th {\n",
       "        text-align: right;\n",
       "    }\n",
       "</style>\n",
       "<table border=\"1\" class=\"dataframe\">\n",
       "  <thead>\n",
       "    <tr style=\"text-align: right;\">\n",
       "      <th></th>\n",
       "      <th>Entity</th>\n",
       "      <th>Code</th>\n",
       "      <th>Year</th>\n",
       "      <th>Electricity from wind - TWh</th>\n",
       "      <th>Electricity from hydro - TWh</th>\n",
       "      <th>Electricity from solar - TWh</th>\n",
       "      <th>Other renewables including bioenergy - TWh</th>\n",
       "    </tr>\n",
       "  </thead>\n",
       "  <tbody>\n",
       "    <tr>\n",
       "      <th>0</th>\n",
       "      <td>ASEAN (Ember)</td>\n",
       "      <td>NaN</td>\n",
       "      <td>2000</td>\n",
       "      <td>0.0</td>\n",
       "      <td>50.37</td>\n",
       "      <td>0.0</td>\n",
       "      <td>22.400000</td>\n",
       "    </tr>\n",
       "    <tr>\n",
       "      <th>1</th>\n",
       "      <td>ASEAN (Ember)</td>\n",
       "      <td>NaN</td>\n",
       "      <td>2001</td>\n",
       "      <td>0.0</td>\n",
       "      <td>54.26</td>\n",
       "      <td>0.0</td>\n",
       "      <td>22.289999</td>\n",
       "    </tr>\n",
       "    <tr>\n",
       "      <th>2</th>\n",
       "      <td>ASEAN (Ember)</td>\n",
       "      <td>NaN</td>\n",
       "      <td>2002</td>\n",
       "      <td>0.0</td>\n",
       "      <td>53.32</td>\n",
       "      <td>0.0</td>\n",
       "      <td>22.540000</td>\n",
       "    </tr>\n",
       "    <tr>\n",
       "      <th>3</th>\n",
       "      <td>ASEAN (Ember)</td>\n",
       "      <td>NaN</td>\n",
       "      <td>2003</td>\n",
       "      <td>0.0</td>\n",
       "      <td>53.28</td>\n",
       "      <td>0.0</td>\n",
       "      <td>22.250000</td>\n",
       "    </tr>\n",
       "    <tr>\n",
       "      <th>4</th>\n",
       "      <td>ASEAN (Ember)</td>\n",
       "      <td>NaN</td>\n",
       "      <td>2004</td>\n",
       "      <td>0.0</td>\n",
       "      <td>52.88</td>\n",
       "      <td>0.0</td>\n",
       "      <td>24.039999</td>\n",
       "    </tr>\n",
       "  </tbody>\n",
       "</table>\n",
       "</div>"
      ],
      "text/plain": [
       "          Entity Code  Year  Electricity from wind - TWh  \\\n",
       "0  ASEAN (Ember)  NaN  2000                          0.0   \n",
       "1  ASEAN (Ember)  NaN  2001                          0.0   \n",
       "2  ASEAN (Ember)  NaN  2002                          0.0   \n",
       "3  ASEAN (Ember)  NaN  2003                          0.0   \n",
       "4  ASEAN (Ember)  NaN  2004                          0.0   \n",
       "\n",
       "   Electricity from hydro - TWh  Electricity from solar - TWh  \\\n",
       "0                         50.37                           0.0   \n",
       "1                         54.26                           0.0   \n",
       "2                         53.32                           0.0   \n",
       "3                         53.28                           0.0   \n",
       "4                         52.88                           0.0   \n",
       "\n",
       "   Other renewables including bioenergy - TWh  \n",
       "0                                   22.400000  \n",
       "1                                   22.289999  \n",
       "2                                   22.540000  \n",
       "3                                   22.250000  \n",
       "4                                   24.039999  "
      ]
     },
     "execution_count": 3,
     "metadata": {},
     "output_type": "execute_result"
    }
   ],
   "source": [
    "#Check the first few rows of the DataFrame\n",
    "df.head()"
   ]
  },
  {
   "cell_type": "code",
   "execution_count": 4,
   "metadata": {
    "id": "g8jmZ0pHPKlj",
    "outputId": "92bb0515-d13d-44a3-dc9c-de06b678ecac"
   },
   "outputs": [
    {
     "data": {
      "text/plain": [
       "(8961, 7)"
      ]
     },
     "execution_count": 4,
     "metadata": {},
     "output_type": "execute_result"
    }
   ],
   "source": [
    "# Display the shape of the DataFrame\n",
    "df.shape"
   ]
  },
  {
   "cell_type": "markdown",
   "metadata": {
    "id": "jN-qJdTpPKlk"
   },
   "source": [
    "This indicates that the DataFrame comprises 34,936 rows and 36 columns. Each row corresponds to an individual power plant, and the columns represent the characteristics or attributes associated with these interactions."
   ]
  },
  {
   "cell_type": "code",
   "execution_count": 5,
   "metadata": {
    "id": "3axdEkx5PKlk",
    "outputId": "7775a1a5-608a-4c37-ff46-155af6098372"
   },
   "outputs": [
    {
     "name": "stdout",
     "output_type": "stream",
     "text": [
      "<class 'pandas.core.frame.DataFrame'>\n",
      "RangeIndex: 8961 entries, 0 to 8960\n",
      "Data columns (total 7 columns):\n",
      " #   Column                                      Non-Null Count  Dtype  \n",
      "---  ------                                      --------------  -----  \n",
      " 0   Entity                                      8961 non-null   object \n",
      " 1   Code                                        7354 non-null   object \n",
      " 2   Year                                        8961 non-null   int64  \n",
      " 3   Electricity from wind - TWh                 8000 non-null   float64\n",
      " 4   Electricity from hydro - TWh                8863 non-null   float64\n",
      " 5   Electricity from solar - TWh                7956 non-null   float64\n",
      " 6   Other renewables including bioenergy - TWh  8148 non-null   float64\n",
      "dtypes: float64(4), int64(1), object(2)\n",
      "memory usage: 490.2+ KB\n"
     ]
    }
   ],
   "source": [
    "#Get a concise summary of the DataFrame\n",
    "df.info()"
   ]
  },
  {
   "cell_type": "code",
   "execution_count": 6,
   "metadata": {},
   "outputs": [
    {
     "data": {
      "text/html": [
       "<div>\n",
       "<style scoped>\n",
       "    .dataframe tbody tr th:only-of-type {\n",
       "        vertical-align: middle;\n",
       "    }\n",
       "\n",
       "    .dataframe tbody tr th {\n",
       "        vertical-align: top;\n",
       "    }\n",
       "\n",
       "    .dataframe thead th {\n",
       "        text-align: right;\n",
       "    }\n",
       "</style>\n",
       "<table border=\"1\" class=\"dataframe\">\n",
       "  <thead>\n",
       "    <tr style=\"text-align: right;\">\n",
       "      <th></th>\n",
       "      <th>Year</th>\n",
       "      <th>Electricity from wind - TWh</th>\n",
       "      <th>Electricity from hydro - TWh</th>\n",
       "      <th>Electricity from solar - TWh</th>\n",
       "      <th>Other renewables including bioenergy - TWh</th>\n",
       "    </tr>\n",
       "  </thead>\n",
       "  <tbody>\n",
       "    <tr>\n",
       "      <th>count</th>\n",
       "      <td>8961.000000</td>\n",
       "      <td>8000.000000</td>\n",
       "      <td>8863.000000</td>\n",
       "      <td>7956.000000</td>\n",
       "      <td>8148.000000</td>\n",
       "    </tr>\n",
       "    <tr>\n",
       "      <th>mean</th>\n",
       "      <td>2000.253655</td>\n",
       "      <td>17.529973</td>\n",
       "      <td>119.982263</td>\n",
       "      <td>7.038448</td>\n",
       "      <td>13.423971</td>\n",
       "    </tr>\n",
       "    <tr>\n",
       "      <th>std</th>\n",
       "      <td>15.770290</td>\n",
       "      <td>101.380285</td>\n",
       "      <td>369.780979</td>\n",
       "      <td>51.694972</td>\n",
       "      <td>51.549803</td>\n",
       "    </tr>\n",
       "    <tr>\n",
       "      <th>min</th>\n",
       "      <td>1965.000000</td>\n",
       "      <td>0.000000</td>\n",
       "      <td>0.000000</td>\n",
       "      <td>0.000000</td>\n",
       "      <td>0.000000</td>\n",
       "    </tr>\n",
       "    <tr>\n",
       "      <th>25%</th>\n",
       "      <td>1989.000000</td>\n",
       "      <td>0.000000</td>\n",
       "      <td>0.100000</td>\n",
       "      <td>0.000000</td>\n",
       "      <td>0.000000</td>\n",
       "    </tr>\n",
       "    <tr>\n",
       "      <th>50%</th>\n",
       "      <td>2004.000000</td>\n",
       "      <td>0.000000</td>\n",
       "      <td>3.838000</td>\n",
       "      <td>0.000000</td>\n",
       "      <td>0.060000</td>\n",
       "    </tr>\n",
       "    <tr>\n",
       "      <th>75%</th>\n",
       "      <td>2013.000000</td>\n",
       "      <td>0.138831</td>\n",
       "      <td>31.482000</td>\n",
       "      <td>0.020000</td>\n",
       "      <td>2.010000</td>\n",
       "    </tr>\n",
       "    <tr>\n",
       "      <th>max</th>\n",
       "      <td>2022.000000</td>\n",
       "      <td>2098.460000</td>\n",
       "      <td>4339.530000</td>\n",
       "      <td>1310.020000</td>\n",
       "      <td>771.910000</td>\n",
       "    </tr>\n",
       "  </tbody>\n",
       "</table>\n",
       "</div>"
      ],
      "text/plain": [
       "              Year  Electricity from wind - TWh  Electricity from hydro - TWh  \\\n",
       "count  8961.000000                  8000.000000                   8863.000000   \n",
       "mean   2000.253655                    17.529973                    119.982263   \n",
       "std      15.770290                   101.380285                    369.780979   \n",
       "min    1965.000000                     0.000000                      0.000000   \n",
       "25%    1989.000000                     0.000000                      0.100000   \n",
       "50%    2004.000000                     0.000000                      3.838000   \n",
       "75%    2013.000000                     0.138831                     31.482000   \n",
       "max    2022.000000                  2098.460000                   4339.530000   \n",
       "\n",
       "       Electricity from solar - TWh  \\\n",
       "count                   7956.000000   \n",
       "mean                       7.038448   \n",
       "std                       51.694972   \n",
       "min                        0.000000   \n",
       "25%                        0.000000   \n",
       "50%                        0.000000   \n",
       "75%                        0.020000   \n",
       "max                     1310.020000   \n",
       "\n",
       "       Other renewables including bioenergy - TWh  \n",
       "count                                 8148.000000  \n",
       "mean                                    13.423971  \n",
       "std                                     51.549803  \n",
       "min                                      0.000000  \n",
       "25%                                      0.000000  \n",
       "50%                                      0.060000  \n",
       "75%                                      2.010000  \n",
       "max                                    771.910000  "
      ]
     },
     "execution_count": 6,
     "metadata": {},
     "output_type": "execute_result"
    }
   ],
   "source": [
    "# Display descriptive statistics of the DataFrame\n",
    "df.describe()"
   ]
  },
  {
   "cell_type": "code",
   "execution_count": 7,
   "metadata": {},
   "outputs": [
    {
     "data": {
      "text/plain": [
       "Entity                                         252\n",
       "Code                                           217\n",
       "Year                                            58\n",
       "Electricity from wind - TWh                   1554\n",
       "Electricity from hydro - TWh                  4937\n",
       "Electricity from solar - TWh                  1127\n",
       "Other renewables including bioenergy - TWh    2766\n",
       "dtype: int64"
      ]
     },
     "execution_count": 7,
     "metadata": {},
     "output_type": "execute_result"
    }
   ],
   "source": [
    "#Check the unique values in each column\n",
    "df.nunique()"
   ]
  },
  {
   "cell_type": "code",
   "execution_count": 8,
   "metadata": {},
   "outputs": [
    {
     "data": {
      "text/plain": [
       "Entity                                           0\n",
       "Code                                          1607\n",
       "Year                                             0\n",
       "Electricity from wind - TWh                    961\n",
       "Electricity from hydro - TWh                    98\n",
       "Electricity from solar - TWh                  1005\n",
       "Other renewables including bioenergy - TWh     813\n",
       "dtype: int64"
      ]
     },
     "execution_count": 8,
     "metadata": {},
     "output_type": "execute_result"
    }
   ],
   "source": [
    "df.isna().sum()"
   ]
  },
  {
   "cell_type": "code",
   "execution_count": 9,
   "metadata": {},
   "outputs": [
    {
     "data": {
      "text/plain": [
       "Index(['Entity', 'Code', 'Year', 'Electricity from wind - TWh',\n",
       "       'Electricity from hydro - TWh', 'Electricity from solar - TWh',\n",
       "       'Other renewables including bioenergy - TWh'],\n",
       "      dtype='object')"
      ]
     },
     "execution_count": 9,
     "metadata": {},
     "output_type": "execute_result"
    }
   ],
   "source": [
    "df.columns"
   ]
  },
  {
   "cell_type": "code",
   "execution_count": 10,
   "metadata": {},
   "outputs": [],
   "source": [
    "#fill nulls\n",
    "df.fillna(0, inplace=True)"
   ]
  },
  {
   "cell_type": "code",
   "execution_count": 11,
   "metadata": {},
   "outputs": [
    {
     "data": {
      "text/plain": [
       "Entity                                        0\n",
       "Code                                          0\n",
       "Year                                          0\n",
       "Electricity from wind - TWh                   0\n",
       "Electricity from hydro - TWh                  0\n",
       "Electricity from solar - TWh                  0\n",
       "Other renewables including bioenergy - TWh    0\n",
       "dtype: int64"
      ]
     },
     "execution_count": 11,
     "metadata": {},
     "output_type": "execute_result"
    }
   ],
   "source": [
    "df.isna().sum()"
   ]
  },
  {
   "cell_type": "code",
   "execution_count": 12,
   "metadata": {},
   "outputs": [
    {
     "data": {
      "text/plain": [
       "Entity                                         object\n",
       "Code                                           object\n",
       "Year                                            int64\n",
       "Electricity from wind - TWh                   float64\n",
       "Electricity from hydro - TWh                  float64\n",
       "Electricity from solar - TWh                  float64\n",
       "Other renewables including bioenergy - TWh    float64\n",
       "dtype: object"
      ]
     },
     "execution_count": 12,
     "metadata": {},
     "output_type": "execute_result"
    }
   ],
   "source": [
    "df.dtypes"
   ]
  },
  {
   "cell_type": "code",
   "execution_count": 13,
   "metadata": {},
   "outputs": [
    {
     "data": {
      "text/html": [
       "<div>\n",
       "<style scoped>\n",
       "    .dataframe tbody tr th:only-of-type {\n",
       "        vertical-align: middle;\n",
       "    }\n",
       "\n",
       "    .dataframe tbody tr th {\n",
       "        vertical-align: top;\n",
       "    }\n",
       "\n",
       "    .dataframe thead th {\n",
       "        text-align: right;\n",
       "    }\n",
       "</style>\n",
       "<table border=\"1\" class=\"dataframe\">\n",
       "  <thead>\n",
       "    <tr style=\"text-align: right;\">\n",
       "      <th></th>\n",
       "      <th>Entity</th>\n",
       "      <th>Code</th>\n",
       "      <th>Year</th>\n",
       "      <th>Electricity from wind - TWh</th>\n",
       "      <th>Electricity from hydro - TWh</th>\n",
       "      <th>Electricity from solar - TWh</th>\n",
       "      <th>Other renewables including bioenergy - TWh</th>\n",
       "    </tr>\n",
       "  </thead>\n",
       "  <tbody>\n",
       "    <tr>\n",
       "      <th>0</th>\n",
       "      <td>ASEAN (Ember)</td>\n",
       "      <td>0</td>\n",
       "      <td>2000</td>\n",
       "      <td>0.0</td>\n",
       "      <td>50.37</td>\n",
       "      <td>0.00</td>\n",
       "      <td>22.400000</td>\n",
       "    </tr>\n",
       "    <tr>\n",
       "      <th>1</th>\n",
       "      <td>ASEAN (Ember)</td>\n",
       "      <td>0</td>\n",
       "      <td>2001</td>\n",
       "      <td>0.0</td>\n",
       "      <td>54.26</td>\n",
       "      <td>0.00</td>\n",
       "      <td>22.289999</td>\n",
       "    </tr>\n",
       "    <tr>\n",
       "      <th>2</th>\n",
       "      <td>ASEAN (Ember)</td>\n",
       "      <td>0</td>\n",
       "      <td>2002</td>\n",
       "      <td>0.0</td>\n",
       "      <td>53.32</td>\n",
       "      <td>0.00</td>\n",
       "      <td>22.540000</td>\n",
       "    </tr>\n",
       "    <tr>\n",
       "      <th>3</th>\n",
       "      <td>ASEAN (Ember)</td>\n",
       "      <td>0</td>\n",
       "      <td>2003</td>\n",
       "      <td>0.0</td>\n",
       "      <td>53.28</td>\n",
       "      <td>0.00</td>\n",
       "      <td>22.250000</td>\n",
       "    </tr>\n",
       "    <tr>\n",
       "      <th>4</th>\n",
       "      <td>ASEAN (Ember)</td>\n",
       "      <td>0</td>\n",
       "      <td>2004</td>\n",
       "      <td>0.0</td>\n",
       "      <td>52.88</td>\n",
       "      <td>0.00</td>\n",
       "      <td>24.039999</td>\n",
       "    </tr>\n",
       "    <tr>\n",
       "      <th>...</th>\n",
       "      <td>...</td>\n",
       "      <td>...</td>\n",
       "      <td>...</td>\n",
       "      <td>...</td>\n",
       "      <td>...</td>\n",
       "      <td>...</td>\n",
       "      <td>...</td>\n",
       "    </tr>\n",
       "    <tr>\n",
       "      <th>8956</th>\n",
       "      <td>Zimbabwe</td>\n",
       "      <td>ZWE</td>\n",
       "      <td>2017</td>\n",
       "      <td>0.0</td>\n",
       "      <td>3.97</td>\n",
       "      <td>0.01</td>\n",
       "      <td>0.320000</td>\n",
       "    </tr>\n",
       "    <tr>\n",
       "      <th>8957</th>\n",
       "      <td>Zimbabwe</td>\n",
       "      <td>ZWE</td>\n",
       "      <td>2018</td>\n",
       "      <td>0.0</td>\n",
       "      <td>5.05</td>\n",
       "      <td>0.02</td>\n",
       "      <td>0.390000</td>\n",
       "    </tr>\n",
       "    <tr>\n",
       "      <th>8958</th>\n",
       "      <td>Zimbabwe</td>\n",
       "      <td>ZWE</td>\n",
       "      <td>2019</td>\n",
       "      <td>0.0</td>\n",
       "      <td>4.17</td>\n",
       "      <td>0.03</td>\n",
       "      <td>0.380000</td>\n",
       "    </tr>\n",
       "    <tr>\n",
       "      <th>8959</th>\n",
       "      <td>Zimbabwe</td>\n",
       "      <td>ZWE</td>\n",
       "      <td>2020</td>\n",
       "      <td>0.0</td>\n",
       "      <td>3.81</td>\n",
       "      <td>0.03</td>\n",
       "      <td>0.350000</td>\n",
       "    </tr>\n",
       "    <tr>\n",
       "      <th>8960</th>\n",
       "      <td>Zimbabwe</td>\n",
       "      <td>ZWE</td>\n",
       "      <td>2021</td>\n",
       "      <td>0.0</td>\n",
       "      <td>4.00</td>\n",
       "      <td>0.04</td>\n",
       "      <td>0.380000</td>\n",
       "    </tr>\n",
       "  </tbody>\n",
       "</table>\n",
       "<p>8961 rows × 7 columns</p>\n",
       "</div>"
      ],
      "text/plain": [
       "             Entity Code  Year  Electricity from wind - TWh  \\\n",
       "0     ASEAN (Ember)    0  2000                          0.0   \n",
       "1     ASEAN (Ember)    0  2001                          0.0   \n",
       "2     ASEAN (Ember)    0  2002                          0.0   \n",
       "3     ASEAN (Ember)    0  2003                          0.0   \n",
       "4     ASEAN (Ember)    0  2004                          0.0   \n",
       "...             ...  ...   ...                          ...   \n",
       "8956       Zimbabwe  ZWE  2017                          0.0   \n",
       "8957       Zimbabwe  ZWE  2018                          0.0   \n",
       "8958       Zimbabwe  ZWE  2019                          0.0   \n",
       "8959       Zimbabwe  ZWE  2020                          0.0   \n",
       "8960       Zimbabwe  ZWE  2021                          0.0   \n",
       "\n",
       "      Electricity from hydro - TWh  Electricity from solar - TWh  \\\n",
       "0                            50.37                          0.00   \n",
       "1                            54.26                          0.00   \n",
       "2                            53.32                          0.00   \n",
       "3                            53.28                          0.00   \n",
       "4                            52.88                          0.00   \n",
       "...                            ...                           ...   \n",
       "8956                          3.97                          0.01   \n",
       "8957                          5.05                          0.02   \n",
       "8958                          4.17                          0.03   \n",
       "8959                          3.81                          0.03   \n",
       "8960                          4.00                          0.04   \n",
       "\n",
       "      Other renewables including bioenergy - TWh  \n",
       "0                                      22.400000  \n",
       "1                                      22.289999  \n",
       "2                                      22.540000  \n",
       "3                                      22.250000  \n",
       "4                                      24.039999  \n",
       "...                                          ...  \n",
       "8956                                    0.320000  \n",
       "8957                                    0.390000  \n",
       "8958                                    0.380000  \n",
       "8959                                    0.350000  \n",
       "8960                                    0.380000  \n",
       "\n",
       "[8961 rows x 7 columns]"
      ]
     },
     "execution_count": 13,
     "metadata": {},
     "output_type": "execute_result"
    }
   ],
   "source": [
    "new_df = df.copy()\n",
    "new_df"
   ]
  },
  {
   "cell_type": "code",
   "execution_count": 14,
   "metadata": {},
   "outputs": [],
   "source": [
    "df.drop(columns=['Code', 'Entity'], inplace=True)"
   ]
  },
  {
   "cell_type": "code",
   "execution_count": 15,
   "metadata": {},
   "outputs": [
    {
     "data": {
      "text/plain": [
       "Year                                          0.170419\n",
       "Electricity from wind - TWh                   1.000000\n",
       "Electricity from hydro - TWh                  0.675541\n",
       "Electricity from solar - TWh                  0.949451\n",
       "Other renewables including bioenergy - TWh    0.898073\n",
       "Name: Electricity from wind - TWh, dtype: float64"
      ]
     },
     "execution_count": 15,
     "metadata": {},
     "output_type": "execute_result"
    }
   ],
   "source": [
    "df.corr()['Electricity from wind - TWh']"
   ]
  },
  {
   "cell_type": "markdown",
   "metadata": {},
   "source": [
    "There's good correlation so we can do regression."
   ]
  },
  {
   "cell_type": "code",
   "execution_count": 16,
   "metadata": {},
   "outputs": [
    {
     "data": {
      "text/plain": [
       "Index(['Year', 'Electricity from wind - TWh', 'Electricity from hydro - TWh',\n",
       "       'Electricity from solar - TWh',\n",
       "       'Other renewables including bioenergy - TWh'],\n",
       "      dtype='object')"
      ]
     },
     "execution_count": 16,
     "metadata": {},
     "output_type": "execute_result"
    }
   ],
   "source": [
    "df.columns"
   ]
  },
  {
   "cell_type": "code",
   "execution_count": 17,
   "metadata": {},
   "outputs": [
    {
     "data": {
      "text/html": [
       "<div>\n",
       "<style scoped>\n",
       "    .dataframe tbody tr th:only-of-type {\n",
       "        vertical-align: middle;\n",
       "    }\n",
       "\n",
       "    .dataframe tbody tr th {\n",
       "        vertical-align: top;\n",
       "    }\n",
       "\n",
       "    .dataframe thead th {\n",
       "        text-align: right;\n",
       "    }\n",
       "</style>\n",
       "<table border=\"1\" class=\"dataframe\">\n",
       "  <thead>\n",
       "    <tr style=\"text-align: right;\">\n",
       "      <th></th>\n",
       "      <th>Year</th>\n",
       "      <th>Electricity from wind - TWh</th>\n",
       "      <th>Electricity from hydro - TWh</th>\n",
       "      <th>Electricity from solar - TWh</th>\n",
       "      <th>Other renewables including bioenergy - TWh</th>\n",
       "    </tr>\n",
       "  </thead>\n",
       "  <tbody>\n",
       "    <tr>\n",
       "      <th>0</th>\n",
       "      <td>2000</td>\n",
       "      <td>0.0</td>\n",
       "      <td>50.37</td>\n",
       "      <td>0.00</td>\n",
       "      <td>22.400000</td>\n",
       "    </tr>\n",
       "    <tr>\n",
       "      <th>1</th>\n",
       "      <td>2001</td>\n",
       "      <td>0.0</td>\n",
       "      <td>54.26</td>\n",
       "      <td>0.00</td>\n",
       "      <td>22.289999</td>\n",
       "    </tr>\n",
       "    <tr>\n",
       "      <th>2</th>\n",
       "      <td>2002</td>\n",
       "      <td>0.0</td>\n",
       "      <td>53.32</td>\n",
       "      <td>0.00</td>\n",
       "      <td>22.540000</td>\n",
       "    </tr>\n",
       "    <tr>\n",
       "      <th>3</th>\n",
       "      <td>2003</td>\n",
       "      <td>0.0</td>\n",
       "      <td>53.28</td>\n",
       "      <td>0.00</td>\n",
       "      <td>22.250000</td>\n",
       "    </tr>\n",
       "    <tr>\n",
       "      <th>4</th>\n",
       "      <td>2004</td>\n",
       "      <td>0.0</td>\n",
       "      <td>52.88</td>\n",
       "      <td>0.00</td>\n",
       "      <td>24.039999</td>\n",
       "    </tr>\n",
       "    <tr>\n",
       "      <th>...</th>\n",
       "      <td>...</td>\n",
       "      <td>...</td>\n",
       "      <td>...</td>\n",
       "      <td>...</td>\n",
       "      <td>...</td>\n",
       "    </tr>\n",
       "    <tr>\n",
       "      <th>8956</th>\n",
       "      <td>2017</td>\n",
       "      <td>0.0</td>\n",
       "      <td>3.97</td>\n",
       "      <td>0.01</td>\n",
       "      <td>0.320000</td>\n",
       "    </tr>\n",
       "    <tr>\n",
       "      <th>8957</th>\n",
       "      <td>2018</td>\n",
       "      <td>0.0</td>\n",
       "      <td>5.05</td>\n",
       "      <td>0.02</td>\n",
       "      <td>0.390000</td>\n",
       "    </tr>\n",
       "    <tr>\n",
       "      <th>8958</th>\n",
       "      <td>2019</td>\n",
       "      <td>0.0</td>\n",
       "      <td>4.17</td>\n",
       "      <td>0.03</td>\n",
       "      <td>0.380000</td>\n",
       "    </tr>\n",
       "    <tr>\n",
       "      <th>8959</th>\n",
       "      <td>2020</td>\n",
       "      <td>0.0</td>\n",
       "      <td>3.81</td>\n",
       "      <td>0.03</td>\n",
       "      <td>0.350000</td>\n",
       "    </tr>\n",
       "    <tr>\n",
       "      <th>8960</th>\n",
       "      <td>2021</td>\n",
       "      <td>0.0</td>\n",
       "      <td>4.00</td>\n",
       "      <td>0.04</td>\n",
       "      <td>0.380000</td>\n",
       "    </tr>\n",
       "  </tbody>\n",
       "</table>\n",
       "<p>8961 rows × 5 columns</p>\n",
       "</div>"
      ],
      "text/plain": [
       "      Year  Electricity from wind - TWh  Electricity from hydro - TWh  \\\n",
       "0     2000                          0.0                         50.37   \n",
       "1     2001                          0.0                         54.26   \n",
       "2     2002                          0.0                         53.32   \n",
       "3     2003                          0.0                         53.28   \n",
       "4     2004                          0.0                         52.88   \n",
       "...    ...                          ...                           ...   \n",
       "8956  2017                          0.0                          3.97   \n",
       "8957  2018                          0.0                          5.05   \n",
       "8958  2019                          0.0                          4.17   \n",
       "8959  2020                          0.0                          3.81   \n",
       "8960  2021                          0.0                          4.00   \n",
       "\n",
       "      Electricity from solar - TWh  Other renewables including bioenergy - TWh  \n",
       "0                             0.00                                   22.400000  \n",
       "1                             0.00                                   22.289999  \n",
       "2                             0.00                                   22.540000  \n",
       "3                             0.00                                   22.250000  \n",
       "4                             0.00                                   24.039999  \n",
       "...                            ...                                         ...  \n",
       "8956                          0.01                                    0.320000  \n",
       "8957                          0.02                                    0.390000  \n",
       "8958                          0.03                                    0.380000  \n",
       "8959                          0.03                                    0.350000  \n",
       "8960                          0.04                                    0.380000  \n",
       "\n",
       "[8961 rows x 5 columns]"
      ]
     },
     "execution_count": 17,
     "metadata": {},
     "output_type": "execute_result"
    }
   ],
   "source": [
    "df"
   ]
  },
  {
   "cell_type": "markdown",
   "metadata": {
    "id": "C4niOHMzPKlp"
   },
   "source": [
    "### Feature Engineering"
   ]
  },
  {
   "cell_type": "code",
   "execution_count": 18,
   "metadata": {},
   "outputs": [
    {
     "data": {
      "text/html": [
       "<div>\n",
       "<style scoped>\n",
       "    .dataframe tbody tr th:only-of-type {\n",
       "        vertical-align: middle;\n",
       "    }\n",
       "\n",
       "    .dataframe tbody tr th {\n",
       "        vertical-align: top;\n",
       "    }\n",
       "\n",
       "    .dataframe thead th {\n",
       "        text-align: right;\n",
       "    }\n",
       "</style>\n",
       "<table border=\"1\" class=\"dataframe\">\n",
       "  <thead>\n",
       "    <tr style=\"text-align: right;\">\n",
       "      <th></th>\n",
       "      <th>Year</th>\n",
       "      <th>Electricity from wind - TWh</th>\n",
       "      <th>Electricity from hydro - TWh</th>\n",
       "      <th>Electricity from solar - TWh</th>\n",
       "      <th>Other renewables including bioenergy - TWh</th>\n",
       "      <th>Total Renewable Electricity - TWh</th>\n",
       "    </tr>\n",
       "  </thead>\n",
       "  <tbody>\n",
       "    <tr>\n",
       "      <th>0</th>\n",
       "      <td>2000</td>\n",
       "      <td>0.0</td>\n",
       "      <td>50.37</td>\n",
       "      <td>0.00</td>\n",
       "      <td>22.400000</td>\n",
       "      <td>72.770000</td>\n",
       "    </tr>\n",
       "    <tr>\n",
       "      <th>1</th>\n",
       "      <td>2001</td>\n",
       "      <td>0.0</td>\n",
       "      <td>54.26</td>\n",
       "      <td>0.00</td>\n",
       "      <td>22.289999</td>\n",
       "      <td>76.549999</td>\n",
       "    </tr>\n",
       "    <tr>\n",
       "      <th>2</th>\n",
       "      <td>2002</td>\n",
       "      <td>0.0</td>\n",
       "      <td>53.32</td>\n",
       "      <td>0.00</td>\n",
       "      <td>22.540000</td>\n",
       "      <td>75.860000</td>\n",
       "    </tr>\n",
       "    <tr>\n",
       "      <th>3</th>\n",
       "      <td>2003</td>\n",
       "      <td>0.0</td>\n",
       "      <td>53.28</td>\n",
       "      <td>0.00</td>\n",
       "      <td>22.250000</td>\n",
       "      <td>75.530000</td>\n",
       "    </tr>\n",
       "    <tr>\n",
       "      <th>4</th>\n",
       "      <td>2004</td>\n",
       "      <td>0.0</td>\n",
       "      <td>52.88</td>\n",
       "      <td>0.00</td>\n",
       "      <td>24.039999</td>\n",
       "      <td>76.919999</td>\n",
       "    </tr>\n",
       "    <tr>\n",
       "      <th>...</th>\n",
       "      <td>...</td>\n",
       "      <td>...</td>\n",
       "      <td>...</td>\n",
       "      <td>...</td>\n",
       "      <td>...</td>\n",
       "      <td>...</td>\n",
       "    </tr>\n",
       "    <tr>\n",
       "      <th>8956</th>\n",
       "      <td>2017</td>\n",
       "      <td>0.0</td>\n",
       "      <td>3.97</td>\n",
       "      <td>0.01</td>\n",
       "      <td>0.320000</td>\n",
       "      <td>4.300000</td>\n",
       "    </tr>\n",
       "    <tr>\n",
       "      <th>8957</th>\n",
       "      <td>2018</td>\n",
       "      <td>0.0</td>\n",
       "      <td>5.05</td>\n",
       "      <td>0.02</td>\n",
       "      <td>0.390000</td>\n",
       "      <td>5.460000</td>\n",
       "    </tr>\n",
       "    <tr>\n",
       "      <th>8958</th>\n",
       "      <td>2019</td>\n",
       "      <td>0.0</td>\n",
       "      <td>4.17</td>\n",
       "      <td>0.03</td>\n",
       "      <td>0.380000</td>\n",
       "      <td>4.580000</td>\n",
       "    </tr>\n",
       "    <tr>\n",
       "      <th>8959</th>\n",
       "      <td>2020</td>\n",
       "      <td>0.0</td>\n",
       "      <td>3.81</td>\n",
       "      <td>0.03</td>\n",
       "      <td>0.350000</td>\n",
       "      <td>4.190000</td>\n",
       "    </tr>\n",
       "    <tr>\n",
       "      <th>8960</th>\n",
       "      <td>2021</td>\n",
       "      <td>0.0</td>\n",
       "      <td>4.00</td>\n",
       "      <td>0.04</td>\n",
       "      <td>0.380000</td>\n",
       "      <td>4.420000</td>\n",
       "    </tr>\n",
       "  </tbody>\n",
       "</table>\n",
       "<p>8961 rows × 6 columns</p>\n",
       "</div>"
      ],
      "text/plain": [
       "      Year  Electricity from wind - TWh  Electricity from hydro - TWh  \\\n",
       "0     2000                          0.0                         50.37   \n",
       "1     2001                          0.0                         54.26   \n",
       "2     2002                          0.0                         53.32   \n",
       "3     2003                          0.0                         53.28   \n",
       "4     2004                          0.0                         52.88   \n",
       "...    ...                          ...                           ...   \n",
       "8956  2017                          0.0                          3.97   \n",
       "8957  2018                          0.0                          5.05   \n",
       "8958  2019                          0.0                          4.17   \n",
       "8959  2020                          0.0                          3.81   \n",
       "8960  2021                          0.0                          4.00   \n",
       "\n",
       "      Electricity from solar - TWh  \\\n",
       "0                             0.00   \n",
       "1                             0.00   \n",
       "2                             0.00   \n",
       "3                             0.00   \n",
       "4                             0.00   \n",
       "...                            ...   \n",
       "8956                          0.01   \n",
       "8957                          0.02   \n",
       "8958                          0.03   \n",
       "8959                          0.03   \n",
       "8960                          0.04   \n",
       "\n",
       "      Other renewables including bioenergy - TWh  \\\n",
       "0                                      22.400000   \n",
       "1                                      22.289999   \n",
       "2                                      22.540000   \n",
       "3                                      22.250000   \n",
       "4                                      24.039999   \n",
       "...                                          ...   \n",
       "8956                                    0.320000   \n",
       "8957                                    0.390000   \n",
       "8958                                    0.380000   \n",
       "8959                                    0.350000   \n",
       "8960                                    0.380000   \n",
       "\n",
       "      Total Renewable Electricity - TWh  \n",
       "0                             72.770000  \n",
       "1                             76.549999  \n",
       "2                             75.860000  \n",
       "3                             75.530000  \n",
       "4                             76.919999  \n",
       "...                                 ...  \n",
       "8956                           4.300000  \n",
       "8957                           5.460000  \n",
       "8958                           4.580000  \n",
       "8959                           4.190000  \n",
       "8960                           4.420000  \n",
       "\n",
       "[8961 rows x 6 columns]"
      ]
     },
     "execution_count": 18,
     "metadata": {},
     "output_type": "execute_result"
    }
   ],
   "source": [
    "# 1. Total Renewable Electricity - TWh\n",
    "df['Total Renewable Electricity - TWh'] = df['Electricity from wind - TWh'] + df['Electricity from hydro - TWh'] + df['Electricity from solar - TWh'] + df['Other renewables including bioenergy - TWh']\n",
    "df"
   ]
  },
  {
   "cell_type": "markdown",
   "metadata": {
    "id": "2ER1ANZlPKl7"
   },
   "source": [
    "## 3. Exploratory Data Analysis (EDA)"
   ]
  },
  {
   "cell_type": "markdown",
   "metadata": {
    "id": "0jdkrXzkPKl7"
   },
   "source": [
    "With our data now cleaned and prepared, our next step involves visualizing it. The primary focus is on creating graphs and visuals to enhance our visual understanding of the data's insights. Seaborn and Matplotlib will be employed as the main tools for this visualization process."
   ]
  },
  {
   "cell_type": "code",
   "execution_count": 19,
   "metadata": {
    "id": "ptlDLkcIPKl8",
    "outputId": "a5abd6d6-9ce9-4f59-8c56-d49f88807e0e"
   },
   "outputs": [
    {
     "data": {
      "text/html": [
       "<div>\n",
       "<style scoped>\n",
       "    .dataframe tbody tr th:only-of-type {\n",
       "        vertical-align: middle;\n",
       "    }\n",
       "\n",
       "    .dataframe tbody tr th {\n",
       "        vertical-align: top;\n",
       "    }\n",
       "\n",
       "    .dataframe thead th {\n",
       "        text-align: right;\n",
       "    }\n",
       "</style>\n",
       "<table border=\"1\" class=\"dataframe\">\n",
       "  <thead>\n",
       "    <tr style=\"text-align: right;\">\n",
       "      <th></th>\n",
       "      <th>Year</th>\n",
       "      <th>Electricity from wind - TWh</th>\n",
       "      <th>Electricity from hydro - TWh</th>\n",
       "      <th>Electricity from solar - TWh</th>\n",
       "      <th>Other renewables including bioenergy - TWh</th>\n",
       "      <th>Total Renewable Electricity - TWh</th>\n",
       "    </tr>\n",
       "  </thead>\n",
       "  <tbody>\n",
       "    <tr>\n",
       "      <th>0</th>\n",
       "      <td>2000</td>\n",
       "      <td>0.0</td>\n",
       "      <td>50.37</td>\n",
       "      <td>0.00</td>\n",
       "      <td>22.400000</td>\n",
       "      <td>72.770000</td>\n",
       "    </tr>\n",
       "    <tr>\n",
       "      <th>1</th>\n",
       "      <td>2001</td>\n",
       "      <td>0.0</td>\n",
       "      <td>54.26</td>\n",
       "      <td>0.00</td>\n",
       "      <td>22.289999</td>\n",
       "      <td>76.549999</td>\n",
       "    </tr>\n",
       "    <tr>\n",
       "      <th>2</th>\n",
       "      <td>2002</td>\n",
       "      <td>0.0</td>\n",
       "      <td>53.32</td>\n",
       "      <td>0.00</td>\n",
       "      <td>22.540000</td>\n",
       "      <td>75.860000</td>\n",
       "    </tr>\n",
       "    <tr>\n",
       "      <th>3</th>\n",
       "      <td>2003</td>\n",
       "      <td>0.0</td>\n",
       "      <td>53.28</td>\n",
       "      <td>0.00</td>\n",
       "      <td>22.250000</td>\n",
       "      <td>75.530000</td>\n",
       "    </tr>\n",
       "    <tr>\n",
       "      <th>4</th>\n",
       "      <td>2004</td>\n",
       "      <td>0.0</td>\n",
       "      <td>52.88</td>\n",
       "      <td>0.00</td>\n",
       "      <td>24.039999</td>\n",
       "      <td>76.919999</td>\n",
       "    </tr>\n",
       "    <tr>\n",
       "      <th>...</th>\n",
       "      <td>...</td>\n",
       "      <td>...</td>\n",
       "      <td>...</td>\n",
       "      <td>...</td>\n",
       "      <td>...</td>\n",
       "      <td>...</td>\n",
       "    </tr>\n",
       "    <tr>\n",
       "      <th>8956</th>\n",
       "      <td>2017</td>\n",
       "      <td>0.0</td>\n",
       "      <td>3.97</td>\n",
       "      <td>0.01</td>\n",
       "      <td>0.320000</td>\n",
       "      <td>4.300000</td>\n",
       "    </tr>\n",
       "    <tr>\n",
       "      <th>8957</th>\n",
       "      <td>2018</td>\n",
       "      <td>0.0</td>\n",
       "      <td>5.05</td>\n",
       "      <td>0.02</td>\n",
       "      <td>0.390000</td>\n",
       "      <td>5.460000</td>\n",
       "    </tr>\n",
       "    <tr>\n",
       "      <th>8958</th>\n",
       "      <td>2019</td>\n",
       "      <td>0.0</td>\n",
       "      <td>4.17</td>\n",
       "      <td>0.03</td>\n",
       "      <td>0.380000</td>\n",
       "      <td>4.580000</td>\n",
       "    </tr>\n",
       "    <tr>\n",
       "      <th>8959</th>\n",
       "      <td>2020</td>\n",
       "      <td>0.0</td>\n",
       "      <td>3.81</td>\n",
       "      <td>0.03</td>\n",
       "      <td>0.350000</td>\n",
       "      <td>4.190000</td>\n",
       "    </tr>\n",
       "    <tr>\n",
       "      <th>8960</th>\n",
       "      <td>2021</td>\n",
       "      <td>0.0</td>\n",
       "      <td>4.00</td>\n",
       "      <td>0.04</td>\n",
       "      <td>0.380000</td>\n",
       "      <td>4.420000</td>\n",
       "    </tr>\n",
       "  </tbody>\n",
       "</table>\n",
       "<p>8961 rows × 6 columns</p>\n",
       "</div>"
      ],
      "text/plain": [
       "      Year  Electricity from wind - TWh  Electricity from hydro - TWh  \\\n",
       "0     2000                          0.0                         50.37   \n",
       "1     2001                          0.0                         54.26   \n",
       "2     2002                          0.0                         53.32   \n",
       "3     2003                          0.0                         53.28   \n",
       "4     2004                          0.0                         52.88   \n",
       "...    ...                          ...                           ...   \n",
       "8956  2017                          0.0                          3.97   \n",
       "8957  2018                          0.0                          5.05   \n",
       "8958  2019                          0.0                          4.17   \n",
       "8959  2020                          0.0                          3.81   \n",
       "8960  2021                          0.0                          4.00   \n",
       "\n",
       "      Electricity from solar - TWh  \\\n",
       "0                             0.00   \n",
       "1                             0.00   \n",
       "2                             0.00   \n",
       "3                             0.00   \n",
       "4                             0.00   \n",
       "...                            ...   \n",
       "8956                          0.01   \n",
       "8957                          0.02   \n",
       "8958                          0.03   \n",
       "8959                          0.03   \n",
       "8960                          0.04   \n",
       "\n",
       "      Other renewables including bioenergy - TWh  \\\n",
       "0                                      22.400000   \n",
       "1                                      22.289999   \n",
       "2                                      22.540000   \n",
       "3                                      22.250000   \n",
       "4                                      24.039999   \n",
       "...                                          ...   \n",
       "8956                                    0.320000   \n",
       "8957                                    0.390000   \n",
       "8958                                    0.380000   \n",
       "8959                                    0.350000   \n",
       "8960                                    0.380000   \n",
       "\n",
       "      Total Renewable Electricity - TWh  \n",
       "0                             72.770000  \n",
       "1                             76.549999  \n",
       "2                             75.860000  \n",
       "3                             75.530000  \n",
       "4                             76.919999  \n",
       "...                                 ...  \n",
       "8956                           4.300000  \n",
       "8957                           5.460000  \n",
       "8958                           4.580000  \n",
       "8959                           4.190000  \n",
       "8960                           4.420000  \n",
       "\n",
       "[8961 rows x 6 columns]"
      ]
     },
     "execution_count": 19,
     "metadata": {},
     "output_type": "execute_result"
    }
   ],
   "source": [
    "df"
   ]
  },
  {
   "cell_type": "code",
   "execution_count": 20,
   "metadata": {},
   "outputs": [
    {
     "data": {
      "text/plain": [
       "Index(['Year', 'Electricity from wind - TWh', 'Electricity from hydro - TWh',\n",
       "       'Electricity from solar - TWh',\n",
       "       'Other renewables including bioenergy - TWh',\n",
       "       'Total Renewable Electricity - TWh'],\n",
       "      dtype='object')"
      ]
     },
     "execution_count": 20,
     "metadata": {},
     "output_type": "execute_result"
    }
   ],
   "source": [
    "df.columns"
   ]
  },
  {
   "cell_type": "code",
   "execution_count": 21,
   "metadata": {},
   "outputs": [
    {
     "data": {
      "text/plain": [
       "Year                                            int64\n",
       "Electricity from wind - TWh                   float64\n",
       "Electricity from hydro - TWh                  float64\n",
       "Electricity from solar - TWh                  float64\n",
       "Other renewables including bioenergy - TWh    float64\n",
       "Total Renewable Electricity - TWh             float64\n",
       "dtype: object"
      ]
     },
     "execution_count": 21,
     "metadata": {},
     "output_type": "execute_result"
    }
   ],
   "source": [
    "df.dtypes"
   ]
  },
  {
   "cell_type": "code",
   "execution_count": 22,
   "metadata": {},
   "outputs": [],
   "source": [
    "# df['Year'] = pd.to_datetime(df['Year'], format='%Y')"
   ]
  },
  {
   "cell_type": "code",
   "execution_count": 23,
   "metadata": {},
   "outputs": [
    {
     "data": {
      "text/plain": [
       "Year                                            int64\n",
       "Electricity from wind - TWh                   float64\n",
       "Electricity from hydro - TWh                  float64\n",
       "Electricity from solar - TWh                  float64\n",
       "Other renewables including bioenergy - TWh    float64\n",
       "Total Renewable Electricity - TWh             float64\n",
       "dtype: object"
      ]
     },
     "execution_count": 23,
     "metadata": {},
     "output_type": "execute_result"
    }
   ],
   "source": [
    "df.dtypes"
   ]
  },
  {
   "cell_type": "code",
   "execution_count": 24,
   "metadata": {},
   "outputs": [
    {
     "data": {
      "text/html": [
       "<div>\n",
       "<style scoped>\n",
       "    .dataframe tbody tr th:only-of-type {\n",
       "        vertical-align: middle;\n",
       "    }\n",
       "\n",
       "    .dataframe tbody tr th {\n",
       "        vertical-align: top;\n",
       "    }\n",
       "\n",
       "    .dataframe thead th {\n",
       "        text-align: right;\n",
       "    }\n",
       "</style>\n",
       "<table border=\"1\" class=\"dataframe\">\n",
       "  <thead>\n",
       "    <tr style=\"text-align: right;\">\n",
       "      <th></th>\n",
       "      <th>Year</th>\n",
       "      <th>Electricity from wind - TWh</th>\n",
       "      <th>Electricity from hydro - TWh</th>\n",
       "      <th>Electricity from solar - TWh</th>\n",
       "      <th>Other renewables including bioenergy - TWh</th>\n",
       "      <th>Total Renewable Electricity - TWh</th>\n",
       "    </tr>\n",
       "  </thead>\n",
       "  <tbody>\n",
       "    <tr>\n",
       "      <th>0</th>\n",
       "      <td>2000</td>\n",
       "      <td>0.0</td>\n",
       "      <td>50.37</td>\n",
       "      <td>0.00</td>\n",
       "      <td>22.400000</td>\n",
       "      <td>72.770000</td>\n",
       "    </tr>\n",
       "    <tr>\n",
       "      <th>1</th>\n",
       "      <td>2001</td>\n",
       "      <td>0.0</td>\n",
       "      <td>54.26</td>\n",
       "      <td>0.00</td>\n",
       "      <td>22.289999</td>\n",
       "      <td>76.549999</td>\n",
       "    </tr>\n",
       "    <tr>\n",
       "      <th>2</th>\n",
       "      <td>2002</td>\n",
       "      <td>0.0</td>\n",
       "      <td>53.32</td>\n",
       "      <td>0.00</td>\n",
       "      <td>22.540000</td>\n",
       "      <td>75.860000</td>\n",
       "    </tr>\n",
       "    <tr>\n",
       "      <th>3</th>\n",
       "      <td>2003</td>\n",
       "      <td>0.0</td>\n",
       "      <td>53.28</td>\n",
       "      <td>0.00</td>\n",
       "      <td>22.250000</td>\n",
       "      <td>75.530000</td>\n",
       "    </tr>\n",
       "    <tr>\n",
       "      <th>4</th>\n",
       "      <td>2004</td>\n",
       "      <td>0.0</td>\n",
       "      <td>52.88</td>\n",
       "      <td>0.00</td>\n",
       "      <td>24.039999</td>\n",
       "      <td>76.919999</td>\n",
       "    </tr>\n",
       "    <tr>\n",
       "      <th>...</th>\n",
       "      <td>...</td>\n",
       "      <td>...</td>\n",
       "      <td>...</td>\n",
       "      <td>...</td>\n",
       "      <td>...</td>\n",
       "      <td>...</td>\n",
       "    </tr>\n",
       "    <tr>\n",
       "      <th>8956</th>\n",
       "      <td>2017</td>\n",
       "      <td>0.0</td>\n",
       "      <td>3.97</td>\n",
       "      <td>0.01</td>\n",
       "      <td>0.320000</td>\n",
       "      <td>4.300000</td>\n",
       "    </tr>\n",
       "    <tr>\n",
       "      <th>8957</th>\n",
       "      <td>2018</td>\n",
       "      <td>0.0</td>\n",
       "      <td>5.05</td>\n",
       "      <td>0.02</td>\n",
       "      <td>0.390000</td>\n",
       "      <td>5.460000</td>\n",
       "    </tr>\n",
       "    <tr>\n",
       "      <th>8958</th>\n",
       "      <td>2019</td>\n",
       "      <td>0.0</td>\n",
       "      <td>4.17</td>\n",
       "      <td>0.03</td>\n",
       "      <td>0.380000</td>\n",
       "      <td>4.580000</td>\n",
       "    </tr>\n",
       "    <tr>\n",
       "      <th>8959</th>\n",
       "      <td>2020</td>\n",
       "      <td>0.0</td>\n",
       "      <td>3.81</td>\n",
       "      <td>0.03</td>\n",
       "      <td>0.350000</td>\n",
       "      <td>4.190000</td>\n",
       "    </tr>\n",
       "    <tr>\n",
       "      <th>8960</th>\n",
       "      <td>2021</td>\n",
       "      <td>0.0</td>\n",
       "      <td>4.00</td>\n",
       "      <td>0.04</td>\n",
       "      <td>0.380000</td>\n",
       "      <td>4.420000</td>\n",
       "    </tr>\n",
       "  </tbody>\n",
       "</table>\n",
       "<p>8961 rows × 6 columns</p>\n",
       "</div>"
      ],
      "text/plain": [
       "      Year  Electricity from wind - TWh  Electricity from hydro - TWh  \\\n",
       "0     2000                          0.0                         50.37   \n",
       "1     2001                          0.0                         54.26   \n",
       "2     2002                          0.0                         53.32   \n",
       "3     2003                          0.0                         53.28   \n",
       "4     2004                          0.0                         52.88   \n",
       "...    ...                          ...                           ...   \n",
       "8956  2017                          0.0                          3.97   \n",
       "8957  2018                          0.0                          5.05   \n",
       "8958  2019                          0.0                          4.17   \n",
       "8959  2020                          0.0                          3.81   \n",
       "8960  2021                          0.0                          4.00   \n",
       "\n",
       "      Electricity from solar - TWh  \\\n",
       "0                             0.00   \n",
       "1                             0.00   \n",
       "2                             0.00   \n",
       "3                             0.00   \n",
       "4                             0.00   \n",
       "...                            ...   \n",
       "8956                          0.01   \n",
       "8957                          0.02   \n",
       "8958                          0.03   \n",
       "8959                          0.03   \n",
       "8960                          0.04   \n",
       "\n",
       "      Other renewables including bioenergy - TWh  \\\n",
       "0                                      22.400000   \n",
       "1                                      22.289999   \n",
       "2                                      22.540000   \n",
       "3                                      22.250000   \n",
       "4                                      24.039999   \n",
       "...                                          ...   \n",
       "8956                                    0.320000   \n",
       "8957                                    0.390000   \n",
       "8958                                    0.380000   \n",
       "8959                                    0.350000   \n",
       "8960                                    0.380000   \n",
       "\n",
       "      Total Renewable Electricity - TWh  \n",
       "0                             72.770000  \n",
       "1                             76.549999  \n",
       "2                             75.860000  \n",
       "3                             75.530000  \n",
       "4                             76.919999  \n",
       "...                                 ...  \n",
       "8956                           4.300000  \n",
       "8957                           5.460000  \n",
       "8958                           4.580000  \n",
       "8959                           4.190000  \n",
       "8960                           4.420000  \n",
       "\n",
       "[8961 rows x 6 columns]"
      ]
     },
     "execution_count": 24,
     "metadata": {},
     "output_type": "execute_result"
    }
   ],
   "source": [
    "df"
   ]
  },
  {
   "cell_type": "markdown",
   "metadata": {},
   "source": [
    "### (a) Univariate Data Analysis"
   ]
  },
  {
   "cell_type": "code",
   "execution_count": 25,
   "metadata": {
    "scrolled": false
   },
   "outputs": [
    {
     "name": "stdout",
     "output_type": "stream",
     "text": [
      "Univariate Analysis:\n",
      "\n",
      "Electricity from wind - TWh:\n",
      "Summary Statistics:\n",
      "count    8961.000000\n",
      "mean       15.650015\n",
      "std        95.942845\n",
      "min         0.000000\n",
      "25%         0.000000\n",
      "50%         0.000000\n",
      "75%         0.060000\n",
      "max      2098.460000\n",
      "Name: Electricity from wind - TWh, dtype: float64\n"
     ]
    },
    {
     "data": {
      "image/png": "[encoded data removed]",
      "text/plain": [
       "<Figure size 576x288 with 1 Axes>"
      ]
     },
     "metadata": {
      "needs_background": "light"
     },
     "output_type": "display_data"
    },
    {
     "name": "stdout",
     "output_type": "stream",
     "text": [
      "\n",
      "Electricity from hydro - TWh:\n",
      "Summary Statistics:\n",
      "count    8961.000000\n",
      "mean      118.670104\n",
      "std       367.964852\n",
      "min         0.000000\n",
      "25%         0.090000\n",
      "50%         3.662900\n",
      "75%        30.720000\n",
      "max      4339.530000\n",
      "Name: Electricity from hydro - TWh, dtype: float64\n"
     ]
    },
    {
     "data": {
      "image/png": "[encoded data removed]",
      "text/plain": [
       "<Figure size 576x288 with 1 Axes>"
      ]
     },
     "metadata": {
      "needs_background": "light"
     },
     "output_type": "display_data"
    },
    {
     "name": "stdout",
     "output_type": "stream",
     "text": [
      "\n",
      "Electricity from solar - TWh:\n",
      "Summary Statistics:\n",
      "count    8961.000000\n",
      "mean        6.249067\n",
      "std        48.760196\n",
      "min         0.000000\n",
      "25%         0.000000\n",
      "50%         0.000000\n",
      "75%         0.010000\n",
      "max      1310.020000\n",
      "Name: Electricity from solar - TWh, dtype: float64\n"
     ]
    },
    {
     "data": {
      "image/png": "[encoded data removed]",
      "text/plain": [
       "<Figure size 576x288 with 1 Axes>"
      ]
     },
     "metadata": {
      "needs_background": "light"
     },
     "output_type": "display_data"
    },
    {
     "name": "stdout",
     "output_type": "stream",
     "text": [
      "\n",
      "Other renewables including bioenergy - TWh:\n",
      "Summary Statistics:\n",
      "count    8961.000000\n",
      "mean       12.206061\n",
      "std        49.306469\n",
      "min         0.000000\n",
      "25%         0.000000\n",
      "50%         0.020000\n",
      "75%         1.520000\n",
      "max       771.910000\n",
      "Name: Other renewables including bioenergy - TWh, dtype: float64\n"
     ]
    },
    {
     "data": {
      "image/png": "[encoded data removed]",
      "text/plain": [
       "<Figure size 576x288 with 1 Axes>"
      ]
     },
     "metadata": {
      "needs_background": "light"
     },
     "output_type": "display_data"
    },
    {
     "name": "stdout",
     "output_type": "stream",
     "text": [
      "\n",
      "Total Renewable Electricity - TWh:\n",
      "Summary Statistics:\n",
      "count    8961.000000\n",
      "mean      152.775248\n",
      "std       519.585307\n",
      "min         0.000000\n",
      "25%         0.200000\n",
      "50%         4.530000\n",
      "75%        36.293809\n",
      "max      8468.980000\n",
      "Name: Total Renewable Electricity - TWh, dtype: float64\n"
     ]
    },
    {
     "data": {
      "image/png": "[encoded data removed]",
      "text/plain": [
       "<Figure size 576x288 with 1 Axes>"
      ]
     },
     "metadata": {
      "needs_background": "light"
     },
     "output_type": "display_data"
    }
   ],
   "source": [
    "# Univariate Analysis with Line Plots\n",
    "print(\"Univariate Analysis:\")\n",
    "for col in df.columns[1:]:\n",
    "    print(f\"\\n{col}:\")\n",
    "    print(\"Summary Statistics:\")\n",
    "    print(df[col].describe())\n",
    "    plt.figure(figsize=(8, 4))\n",
    "    sns.lineplot(data=df[col])\n",
    "    plt.title(f'Distribution of {col}')\n",
    "    plt.xlabel('Index')\n",
    "    plt.ylabel(col)\n",
    "    plt.show()\n"
   ]
  },
  {
   "cell_type": "code",
   "execution_count": 26,
   "metadata": {},
   "outputs": [
    {
     "data": {
      "text/plain": [
       "Index(['Year', 'Electricity from wind - TWh', 'Electricity from hydro - TWh',\n",
       "       'Electricity from solar - TWh',\n",
       "       'Other renewables including bioenergy - TWh',\n",
       "       'Total Renewable Electricity - TWh'],\n",
       "      dtype='object')"
      ]
     },
     "execution_count": 26,
     "metadata": {},
     "output_type": "execute_result"
    }
   ],
   "source": [
    "df.columns"
   ]
  },
  {
   "cell_type": "code",
   "execution_count": 27,
   "metadata": {},
   "outputs": [
    {
     "data": {
      "image/png": "[encoded data removed]",
      "text/plain": [
       "<Figure size 720x432 with 1 Axes>"
      ]
     },
     "metadata": {
      "needs_background": "light"
     },
     "output_type": "display_data"
    }
   ],
   "source": [
    "# Univariate Analysis\n",
    "plt.figure(figsize=(10, 6))\n",
    "plt.plot(data=df, column='Electricity from wind - TWh')\n",
    "plt.title('Count of Power Plants by Primary Fuel')\n",
    "plt.xlabel('Electricity from wind - TWh')\n",
    "plt.ylabel('Count')\n",
    "plt.xticks(rotation=90)\n",
    "plt.show()"
   ]
  },
  {
   "cell_type": "code",
   "execution_count": 28,
   "metadata": {},
   "outputs": [
    {
     "data": {
      "image/png": "[encoded data removed]",
      "text/plain": [
       "<Figure size 432x288 with 1 Axes>"
      ]
     },
     "metadata": {
      "needs_background": "light"
     },
     "output_type": "display_data"
    }
   ],
   "source": [
    "# Create a lineplot\n",
    "sns.lineplot(data=df, x='Year', y='Electricity from hydro - TWh', label='Hydro')\n",
    "sns.lineplot(data=df, x='Year', y='Electricity from wind - TWh', label='Wind')\n",
    "sns.lineplot(data=df, x='Year', y='Electricity from solar - TWh', label='Solar')\n",
    "\n",
    "# Set the title and labels\n",
    "plt.title('Hydro, Wind, and Solar Generation Over the Years')\n",
    "plt.xlabel('Year')\n",
    "plt.ylabel('Generation (GWh)')\n",
    "\n",
    "# Show the legend\n",
    "plt.legend()\n",
    "\n",
    "# Display the plot\n",
    "plt.show()"
   ]
  },
  {
   "cell_type": "code",
   "execution_count": null,
   "metadata": {},
   "outputs": [],
   "source": []
  },
  {
   "cell_type": "code",
   "execution_count": null,
   "metadata": {},
   "outputs": [],
   "source": []
  },
  {
   "cell_type": "code",
   "execution_count": null,
   "metadata": {},
   "outputs": [],
   "source": []
  },
  {
   "cell_type": "code",
   "execution_count": null,
   "metadata": {},
   "outputs": [],
   "source": []
  },
  {
   "cell_type": "code",
   "execution_count": null,
   "metadata": {},
   "outputs": [],
   "source": []
  },
  {
   "cell_type": "markdown",
   "metadata": {},
   "source": [
    "### (b) Bivariate Data Analysis"
   ]
  },
  {
   "cell_type": "code",
   "execution_count": null,
   "metadata": {},
   "outputs": [],
   "source": []
  },
  {
   "cell_type": "code",
   "execution_count": null,
   "metadata": {},
   "outputs": [],
   "source": []
  },
  {
   "cell_type": "code",
   "execution_count": null,
   "metadata": {},
   "outputs": [],
   "source": []
  },
  {
   "cell_type": "code",
   "execution_count": 29,
   "metadata": {
    "id": "VJjP4FRVPKl9"
   },
   "outputs": [],
   "source": [
    "# Save the DataFrame 'df_cleaned' to a CSV file named 'modelling.csv'\n",
    "df.to_csv('modelling.csv', index=False)"
   ]
  },
  {
   "cell_type": "markdown",
   "metadata": {},
   "source": [
    "## 4. MODELLING \n"
   ]
  },
  {
   "cell_type": "code",
   "execution_count": 30,
   "metadata": {},
   "outputs": [
    {
     "data": {
      "text/html": [
       "<div>\n",
       "<style scoped>\n",
       "    .dataframe tbody tr th:only-of-type {\n",
       "        vertical-align: middle;\n",
       "    }\n",
       "\n",
       "    .dataframe tbody tr th {\n",
       "        vertical-align: top;\n",
       "    }\n",
       "\n",
       "    .dataframe thead th {\n",
       "        text-align: right;\n",
       "    }\n",
       "</style>\n",
       "<table border=\"1\" class=\"dataframe\">\n",
       "  <thead>\n",
       "    <tr style=\"text-align: right;\">\n",
       "      <th></th>\n",
       "      <th>Year</th>\n",
       "      <th>Electricity from wind - TWh</th>\n",
       "      <th>Electricity from hydro - TWh</th>\n",
       "      <th>Electricity from solar - TWh</th>\n",
       "      <th>Other renewables including bioenergy - TWh</th>\n",
       "      <th>Total Renewable Electricity - TWh</th>\n",
       "    </tr>\n",
       "  </thead>\n",
       "  <tbody>\n",
       "    <tr>\n",
       "      <th>0</th>\n",
       "      <td>2000</td>\n",
       "      <td>0.0</td>\n",
       "      <td>50.37</td>\n",
       "      <td>0.00</td>\n",
       "      <td>22.400000</td>\n",
       "      <td>72.770000</td>\n",
       "    </tr>\n",
       "    <tr>\n",
       "      <th>1</th>\n",
       "      <td>2001</td>\n",
       "      <td>0.0</td>\n",
       "      <td>54.26</td>\n",
       "      <td>0.00</td>\n",
       "      <td>22.289999</td>\n",
       "      <td>76.549999</td>\n",
       "    </tr>\n",
       "    <tr>\n",
       "      <th>2</th>\n",
       "      <td>2002</td>\n",
       "      <td>0.0</td>\n",
       "      <td>53.32</td>\n",
       "      <td>0.00</td>\n",
       "      <td>22.540000</td>\n",
       "      <td>75.860000</td>\n",
       "    </tr>\n",
       "    <tr>\n",
       "      <th>3</th>\n",
       "      <td>2003</td>\n",
       "      <td>0.0</td>\n",
       "      <td>53.28</td>\n",
       "      <td>0.00</td>\n",
       "      <td>22.250000</td>\n",
       "      <td>75.530000</td>\n",
       "    </tr>\n",
       "    <tr>\n",
       "      <th>4</th>\n",
       "      <td>2004</td>\n",
       "      <td>0.0</td>\n",
       "      <td>52.88</td>\n",
       "      <td>0.00</td>\n",
       "      <td>24.039999</td>\n",
       "      <td>76.919999</td>\n",
       "    </tr>\n",
       "    <tr>\n",
       "      <th>...</th>\n",
       "      <td>...</td>\n",
       "      <td>...</td>\n",
       "      <td>...</td>\n",
       "      <td>...</td>\n",
       "      <td>...</td>\n",
       "      <td>...</td>\n",
       "    </tr>\n",
       "    <tr>\n",
       "      <th>8956</th>\n",
       "      <td>2017</td>\n",
       "      <td>0.0</td>\n",
       "      <td>3.97</td>\n",
       "      <td>0.01</td>\n",
       "      <td>0.320000</td>\n",
       "      <td>4.300000</td>\n",
       "    </tr>\n",
       "    <tr>\n",
       "      <th>8957</th>\n",
       "      <td>2018</td>\n",
       "      <td>0.0</td>\n",
       "      <td>5.05</td>\n",
       "      <td>0.02</td>\n",
       "      <td>0.390000</td>\n",
       "      <td>5.460000</td>\n",
       "    </tr>\n",
       "    <tr>\n",
       "      <th>8958</th>\n",
       "      <td>2019</td>\n",
       "      <td>0.0</td>\n",
       "      <td>4.17</td>\n",
       "      <td>0.03</td>\n",
       "      <td>0.380000</td>\n",
       "      <td>4.580000</td>\n",
       "    </tr>\n",
       "    <tr>\n",
       "      <th>8959</th>\n",
       "      <td>2020</td>\n",
       "      <td>0.0</td>\n",
       "      <td>3.81</td>\n",
       "      <td>0.03</td>\n",
       "      <td>0.350000</td>\n",
       "      <td>4.190000</td>\n",
       "    </tr>\n",
       "    <tr>\n",
       "      <th>8960</th>\n",
       "      <td>2021</td>\n",
       "      <td>0.0</td>\n",
       "      <td>4.00</td>\n",
       "      <td>0.04</td>\n",
       "      <td>0.380000</td>\n",
       "      <td>4.420000</td>\n",
       "    </tr>\n",
       "  </tbody>\n",
       "</table>\n",
       "<p>8961 rows × 6 columns</p>\n",
       "</div>"
      ],
      "text/plain": [
       "      Year  Electricity from wind - TWh  Electricity from hydro - TWh  \\\n",
       "0     2000                          0.0                         50.37   \n",
       "1     2001                          0.0                         54.26   \n",
       "2     2002                          0.0                         53.32   \n",
       "3     2003                          0.0                         53.28   \n",
       "4     2004                          0.0                         52.88   \n",
       "...    ...                          ...                           ...   \n",
       "8956  2017                          0.0                          3.97   \n",
       "8957  2018                          0.0                          5.05   \n",
       "8958  2019                          0.0                          4.17   \n",
       "8959  2020                          0.0                          3.81   \n",
       "8960  2021                          0.0                          4.00   \n",
       "\n",
       "      Electricity from solar - TWh  \\\n",
       "0                             0.00   \n",
       "1                             0.00   \n",
       "2                             0.00   \n",
       "3                             0.00   \n",
       "4                             0.00   \n",
       "...                            ...   \n",
       "8956                          0.01   \n",
       "8957                          0.02   \n",
       "8958                          0.03   \n",
       "8959                          0.03   \n",
       "8960                          0.04   \n",
       "\n",
       "      Other renewables including bioenergy - TWh  \\\n",
       "0                                      22.400000   \n",
       "1                                      22.289999   \n",
       "2                                      22.540000   \n",
       "3                                      22.250000   \n",
       "4                                      24.039999   \n",
       "...                                          ...   \n",
       "8956                                    0.320000   \n",
       "8957                                    0.390000   \n",
       "8958                                    0.380000   \n",
       "8959                                    0.350000   \n",
       "8960                                    0.380000   \n",
       "\n",
       "      Total Renewable Electricity - TWh  \n",
       "0                             72.770000  \n",
       "1                             76.549999  \n",
       "2                             75.860000  \n",
       "3                             75.530000  \n",
       "4                             76.919999  \n",
       "...                                 ...  \n",
       "8956                           4.300000  \n",
       "8957                           5.460000  \n",
       "8958                           4.580000  \n",
       "8959                           4.190000  \n",
       "8960                           4.420000  \n",
       "\n",
       "[8961 rows x 6 columns]"
      ]
     },
     "execution_count": 30,
     "metadata": {},
     "output_type": "execute_result"
    }
   ],
   "source": [
    "modelling = pd.read_csv('modelling.csv')\n",
    "modelling"
   ]
  },
  {
   "cell_type": "code",
   "execution_count": 31,
   "metadata": {},
   "outputs": [
    {
     "data": {
      "text/plain": [
       "Year                                          0.090435\n",
       "Electricity from wind - TWh                   0.837388\n",
       "Electricity from hydro - TWh                  0.968135\n",
       "Electricity from solar - TWh                  0.747449\n",
       "Other renewables including bioenergy - TWh    0.944267\n",
       "Total Renewable Electricity - TWh             1.000000\n",
       "Name: Total Renewable Electricity - TWh, dtype: float64"
      ]
     },
     "execution_count": 31,
     "metadata": {},
     "output_type": "execute_result"
    }
   ],
   "source": [
    "modelling.corr()['Total Renewable Electricity - TWh']"
   ]
  },
  {
   "cell_type": "code",
   "execution_count": 32,
   "metadata": {},
   "outputs": [
    {
     "data": {
      "text/plain": [
       "Index(['Year', 'Electricity from wind - TWh', 'Electricity from hydro - TWh',\n",
       "       'Electricity from solar - TWh',\n",
       "       'Other renewables including bioenergy - TWh',\n",
       "       'Total Renewable Electricity - TWh'],\n",
       "      dtype='object')"
      ]
     },
     "execution_count": 32,
     "metadata": {},
     "output_type": "execute_result"
    }
   ],
   "source": [
    "modelling.columns"
   ]
  },
  {
   "cell_type": "code",
   "execution_count": 33,
   "metadata": {},
   "outputs": [
    {
     "name": "stdout",
     "output_type": "stream",
     "text": [
      "<class 'pandas.core.frame.DataFrame'>\n",
      "RangeIndex: 8961 entries, 0 to 8960\n",
      "Data columns (total 6 columns):\n",
      " #   Column                                      Non-Null Count  Dtype  \n",
      "---  ------                                      --------------  -----  \n",
      " 0   Year                                        8961 non-null   int64  \n",
      " 1   Electricity from wind - TWh                 8961 non-null   float64\n",
      " 2   Electricity from hydro - TWh                8961 non-null   float64\n",
      " 3   Electricity from solar - TWh                8961 non-null   float64\n",
      " 4   Other renewables including bioenergy - TWh  8961 non-null   float64\n",
      " 5   Total Renewable Electricity - TWh           8961 non-null   float64\n",
      "dtypes: float64(5), int64(1)\n",
      "memory usage: 420.2 KB\n"
     ]
    }
   ],
   "source": [
    "modelling.info()"
   ]
  },
  {
   "cell_type": "code",
   "execution_count": 34,
   "metadata": {},
   "outputs": [],
   "source": [
    "X = modelling.drop(columns=['Electricity from wind - TWh'])\n",
    "y = modelling['Electricity from wind - TWh']"
   ]
  },
  {
   "cell_type": "code",
   "execution_count": 35,
   "metadata": {},
   "outputs": [],
   "source": [
    "# Split the data into training and testing sets\n",
    "X_train, X_test, y_train, y_test = train_test_split(X, y, test_size=0.3, random_state=42)"
   ]
  },
  {
   "cell_type": "code",
   "execution_count": 36,
   "metadata": {},
   "outputs": [
    {
     "data": {
      "text/html": [
       "<style>#sk-container-id-1 {color: black;}#sk-container-id-1 pre{padding: 0;}#sk-container-id-1 div.sk-toggleable {background-color: white;}#sk-container-id-1 label.sk-toggleable__label {cursor: pointer;display: block;width: 100%;margin-bottom: 0;padding: 0.3em;box-sizing: border-box;text-align: center;}#sk-container-id-1 label.sk-toggleable__label-arrow:before {content: \"▸\";float: left;margin-right: 0.25em;color: #696969;}#sk-container-id-1 label.sk-toggleable__label-arrow:hover:before {color: black;}#sk-container-id-1 div.sk-estimator:hover label.sk-toggleable__label-arrow:before {color: black;}#sk-container-id-1 div.sk-toggleable__content {max-height: 0;max-width: 0;overflow: hidden;text-align: left;background-color: #f0f8ff;}#sk-container-id-1 div.sk-toggleable__content pre {margin: 0.2em;color: black;border-radius: 0.25em;background-color: #f0f8ff;}#sk-container-id-1 input.sk-toggleable__control:checked~div.sk-toggleable__content {max-height: 200px;max-width: 100%;overflow: auto;}#sk-container-id-1 input.sk-toggleable__control:checked~label.sk-toggleable__label-arrow:before {content: \"▾\";}#sk-container-id-1 div.sk-estimator input.sk-toggleable__control:checked~label.sk-toggleable__label {background-color: #d4ebff;}#sk-container-id-1 div.sk-label input.sk-toggleable__control:checked~label.sk-toggleable__label {background-color: #d4ebff;}#sk-container-id-1 input.sk-hidden--visually {border: 0;clip: rect(1px 1px 1px 1px);clip: rect(1px, 1px, 1px, 1px);height: 1px;margin: -1px;overflow: hidden;padding: 0;position: absolute;width: 1px;}#sk-container-id-1 div.sk-estimator {font-family: monospace;background-color: #f0f8ff;border: 1px dotted black;border-radius: 0.25em;box-sizing: border-box;margin-bottom: 0.5em;}#sk-container-id-1 div.sk-estimator:hover {background-color: #d4ebff;}#sk-container-id-1 div.sk-parallel-item::after {content: \"\";width: 100%;border-bottom: 1px solid gray;flex-grow: 1;}#sk-container-id-1 div.sk-label:hover label.sk-toggleable__label {background-color: #d4ebff;}#sk-container-id-1 div.sk-serial::before {content: \"\";position: absolute;border-left: 1px solid gray;box-sizing: border-box;top: 0;bottom: 0;left: 50%;z-index: 0;}#sk-container-id-1 div.sk-serial {display: flex;flex-direction: column;align-items: center;background-color: white;padding-right: 0.2em;padding-left: 0.2em;position: relative;}#sk-container-id-1 div.sk-item {position: relative;z-index: 1;}#sk-container-id-1 div.sk-parallel {display: flex;align-items: stretch;justify-content: center;background-color: white;position: relative;}#sk-container-id-1 div.sk-item::before, #sk-container-id-1 div.sk-parallel-item::before {content: \"\";position: absolute;border-left: 1px solid gray;box-sizing: border-box;top: 0;bottom: 0;left: 50%;z-index: -1;}#sk-container-id-1 div.sk-parallel-item {display: flex;flex-direction: column;z-index: 1;position: relative;background-color: white;}#sk-container-id-1 div.sk-parallel-item:first-child::after {align-self: flex-end;width: 50%;}#sk-container-id-1 div.sk-parallel-item:last-child::after {align-self: flex-start;width: 50%;}#sk-container-id-1 div.sk-parallel-item:only-child::after {width: 0;}#sk-container-id-1 div.sk-dashed-wrapped {border: 1px dashed gray;margin: 0 0.4em 0.5em 0.4em;box-sizing: border-box;padding-bottom: 0.4em;background-color: white;}#sk-container-id-1 div.sk-label label {font-family: monospace;font-weight: bold;display: inline-block;line-height: 1.2em;}#sk-container-id-1 div.sk-label-container {text-align: center;}#sk-container-id-1 div.sk-container {/* jupyter's `normalize.less` sets `[hidden] { display: none; }` but bootstrap.min.css set `[hidden] { display: none !important; }` so we also need the `!important` here to be able to override the default hidden behavior on the sphinx rendered scikit-learn.org. See: https://github.com/scikit-learn/scikit-learn/issues/21755 */display: inline-block !important;position: relative;}#sk-container-id-1 div.sk-text-repr-fallback {display: none;}</style><div id=\"sk-container-id-1\" class=\"sk-top-container\"><div class=\"sk-text-repr-fallback\"><pre>LinearRegression()</pre><b>In a Jupyter environment, please rerun this cell to show the HTML representation or trust the notebook. <br />On GitHub, the HTML representation is unable to render, please try loading this page with nbviewer.org.</b></div><div class=\"sk-container\" hidden><div class=\"sk-item\"><div class=\"sk-estimator sk-toggleable\"><input class=\"sk-toggleable__control sk-hidden--visually\" id=\"sk-estimator-id-1\" type=\"checkbox\" checked><label for=\"sk-estimator-id-1\" class=\"sk-toggleable__label sk-toggleable__label-arrow\">LinearRegression</label><div class=\"sk-toggleable__content\"><pre>LinearRegression()</pre></div></div></div></div></div>"
      ],
      "text/plain": [
       "LinearRegression()"
      ]
     },
     "execution_count": 36,
     "metadata": {},
     "output_type": "execute_result"
    }
   ],
   "source": [
    "# Initialize and train the Linear Regression model\n",
    "linreg = LinearRegression()\n",
    "linreg.fit(X_train, y_train)"
   ]
  },
  {
   "cell_type": "code",
   "execution_count": 37,
   "metadata": {},
   "outputs": [],
   "source": [
    "# Predicting the Test set results\n",
    "y_pred = linreg.predict(X_test)"
   ]
  },
  {
   "cell_type": "code",
   "execution_count": 38,
   "metadata": {},
   "outputs": [],
   "source": [
    "from sklearn.metrics import mean_absolute_error"
   ]
  },
  {
   "cell_type": "code",
   "execution_count": 39,
   "metadata": {},
   "outputs": [
    {
     "name": "stdout",
     "output_type": "stream",
     "text": [
      "R^2 Score: 1.0\n",
      "MAE: 4.321153647614293e-13\n",
      "RMSE: 8.87500145520405e-13\n"
     ]
    }
   ],
   "source": [
    "r2 = r2_score(y_test, y_pred)\n",
    "mae = mean_absolute_error(y_test, y_pred)\n",
    "rmse = mean_squared_error(y_test, y_pred, squared=False)\n",
    "\n",
    "print(\"R^2 Score:\", r2)\n",
    "print(\"MAE:\", mae)\n",
    "print(\"RMSE:\", rmse)"
   ]
  },
  {
   "cell_type": "code",
   "execution_count": 40,
   "metadata": {},
   "outputs": [
    {
     "name": "stdout",
     "output_type": "stream",
     "text": [
      "                                             Coefficient\n",
      "Year                                        2.455017e-15\n",
      "Electricity from hydro - TWh               -1.000000e+00\n",
      "Electricity from solar - TWh               -1.000000e+00\n",
      "Other renewables including bioenergy - TWh -1.000000e+00\n",
      "Total Renewable Electricity - TWh           1.000000e+00\n"
     ]
    }
   ],
   "source": [
    "coefficients = pd.DataFrame(linreg.coef_, X.columns, columns=['Coefficient'])\n",
    "print(coefficients)"
   ]
  },
  {
   "cell_type": "code",
   "execution_count": 42,
   "metadata": {},
   "outputs": [
    {
     "name": "stdout",
     "output_type": "stream",
     "text": [
      "Linear Regression:\n",
      "R^2 Score: 1.0\n",
      "RMSE: 8.87500145520405e-13\n",
      "\n",
      "Random Forest Regression:\n",
      "R^2 Score: 0.9847005819599932\n",
      "RMSE: 12.335281962470468\n"
     ]
    }
   ],
   "source": [
    "# Linear Regression and Random Forest Regression\n",
    "\n",
    "# Create a pipeline for Linear Regression\n",
    "linear_pipeline = Pipeline([\n",
    "    ('linear', LinearRegression())  # Linear Regression model\n",
    "])\n",
    "\n",
    "# Fit the pipeline on the scaled training data\n",
    "linear_pipeline.fit(X_train, y_train)\n",
    "# Make predictions on the testing data\n",
    "linear_predictions = linear_pipeline.predict(X_test)\n",
    "\n",
    "# Calculate R^2 score for Linear Regression\n",
    "linear_r2 = r2_score(y_test, linear_predictions)\n",
    "\n",
    "# Calculate RMSE for Linear Regression\n",
    "linear_rmse = mean_squared_error(y_test, linear_predictions, squared=False)\n",
    "\n",
    "# Create a pipeline for Random Forest Regression\n",
    "rf_pipeline = Pipeline([\n",
    "    ('rf', RandomForestRegressor())  # Random Forest Regression model\n",
    "])\n",
    "\n",
    "# Fit the pipeline on the scaled training data\n",
    "rf_pipeline.fit(X_train, y_train)\n",
    "\n",
    "# Make predictions on the testing data\n",
    "rf_predictions = rf_pipeline.predict(X_test)\n",
    "\n",
    "# Calculate R^2 score for Random Forest Regression\n",
    "rf_r2 = r2_score(y_test, rf_predictions)\n",
    "\n",
    "# Calculate RMSE for Random Forest Regression\n",
    "rf_rmse = mean_squared_error(y_test, rf_predictions, squared=False)\n",
    "\n",
    "# Print the R^2 and RMSE for Linear Regression\n",
    "print(\"Linear Regression:\")\n",
    "print(\"R^2 Score:\", linear_r2)\n",
    "print(\"RMSE:\", linear_rmse)\n",
    "\n",
    "# Print the R^2 and RMSE for Random Forest Regression\n",
    "print(\"\\nRandom Forest Regression:\")\n",
    "print(\"R^2 Score:\", rf_r2)\n",
    "print(\"RMSE:\", rf_rmse)"
   ]
  },
  {
   "cell_type": "code",
   "execution_count": 44,
   "metadata": {},
   "outputs": [
    {
     "name": "stdout",
     "output_type": "stream",
     "text": [
      "Linear Regression:\n",
      "Train MSE: 6.643973786852458e-25\n",
      "Test MSE: 7.8765650829874e-25\n",
      "Train R^2: 1.0\n",
      "Test R^2: 1.0\n",
      "************\n",
      "Random Forest:\n",
      "Train MSE: 16.263971976358363\n",
      "Test MSE: 152.65533457386394\n",
      "Train R^2: 0.9981696514600692\n",
      "Test R^2: 0.9846506943393367\n"
     ]
    }
   ],
   "source": [
    "# function to check for overfitting in the models.\n",
    "\n",
    "def check_overfitting(X_train, y_train, X_test, y_test):\n",
    "    # Linear Regression\n",
    "    linear_model = LinearRegression()\n",
    "    linear_model.fit(X_train, y_train)\n",
    "    linear_train_pred = linear_model.predict(X_train)\n",
    "    linear_test_pred = linear_model.predict(X_test)\n",
    "    linear_train_mse = mean_squared_error(y_train, linear_train_pred)\n",
    "    linear_test_mse = mean_squared_error(y_test, linear_test_pred)\n",
    "    linear_train_r2 = r2_score(y_train, linear_train_pred)\n",
    "    linear_test_r2 = r2_score(y_test, linear_test_pred)\n",
    "    \n",
    "    \n",
    "    \n",
    "    # Random Forest\n",
    "    rf_model = RandomForestRegressor()\n",
    "    rf_model.fit(X_train, y_train)\n",
    "    rf_train_pred = rf_model.predict(X_train)\n",
    "    rf_test_pred = rf_model.predict(X_test)\n",
    "    rf_train_mse = mean_squared_error(y_train, rf_train_pred)\n",
    "    rf_test_mse = mean_squared_error(y_test, rf_test_pred)\n",
    "    rf_train_r2 = r2_score(y_train, rf_train_pred)\n",
    "    rf_test_r2 = r2_score(y_test, rf_test_pred)\n",
    "    \n",
    "    # Print results\n",
    "    print(\"Linear Regression:\")\n",
    "    print(f\"Train MSE: {linear_train_mse}\")\n",
    "    print(f\"Test MSE: {linear_test_mse}\")\n",
    "    print(f\"Train R^2: {linear_train_r2}\")\n",
    "    print(f\"Test R^2: {linear_test_r2}\")\n",
    "    \n",
    "    print(\"*\" * 12)\n",
    "    \n",
    "    \n",
    "    print(\"Random Forest:\")\n",
    "    print(f\"Train MSE: {rf_train_mse}\")\n",
    "    print(f\"Test MSE: {rf_test_mse}\")\n",
    "    print(f\"Train R^2: {rf_train_r2}\")\n",
    "    print(f\"Test R^2: {rf_test_r2}\")\n",
    "    \n",
    "check_overfitting(X_train, y_train, X_test, y_test)"
   ]
  },
  {
   "cell_type": "code",
   "execution_count": null,
   "metadata": {},
   "outputs": [],
   "source": []
  }
 ],
 "metadata": {
  "colab": {
   "provenance": []
  },
  "kernelspec": {
   "display_name": "Python 3",
   "language": "python",
   "name": "python3"
  },
  "language_info": {
   "codemirror_mode": {
    "name": "ipython",
    "version": 3
   },
   "file_extension": ".py",
   "mimetype": "text/x-python",
   "name": "python",
   "nbconvert_exporter": "python",
   "pygments_lexer": "ipython3",
   "version": "3.8.5"
  }
 },
 "nbformat": 4,
 "nbformat_minor": 1
}
