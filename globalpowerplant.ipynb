{
 "cells": [
  {
   "cell_type": "markdown",
   "metadata": {},
   "source": [
    "# GLOBAL POWER PLANT ANALYSIS"
   ]
  },
  {
   "cell_type": "markdown",
   "metadata": {},
   "source": [
    "##  Introduction\n"
   ]
  },
  {
   "cell_type": "markdown",
   "metadata": {},
   "source": [
    "In a quest to unravel patterns, trends, and insights, this project aims to provide a comprehensive understanding of power plant ownership, fuel types, capacity, generation levels, and the increasing role of renewable energy sources. Through meticulous analysis and predictive modeling, we aim to shed light on the past, present, and future of global power plants, contributing valuable insights for stakeholders and shaping the narrative of sustainable energy."
   ]
  },
  {
   "cell_type": "markdown",
   "metadata": {},
   "source": [
    "# Project overview"
   ]
  },
  {
   "cell_type": "markdown",
   "metadata": {},
   "source": [
    " ## a) BUSINESS UNDERSTANDING"
   ]
  },
  {
   "cell_type": "markdown",
   "metadata": {},
   "source": [
    "In an era dominated by energy transitions and sustainability concerns, the Global Plant Analysis project aims to unravel the complexities of the worldwide power plant landscape. By investigating ownership patterns, fuel types, and renewable energy contributions, the project seeks to provide a clear snapshot of the global power ecosystem. The insights derived will empower stakeholders, policymakers, and investors with a deeper understanding of the dynamics shaping the energy industry, fostering informed decision-making in an increasingly dynamic and critical sector.\n",
    "\n",
    "This Global Power Plant Analysis is set to benefit the following stakeholders;\n",
    "\n",
    "- Power generation companies-Strategic planning\n",
    "- Environmental Agencies-Providing environmental impact assessment\n",
    "- Researchers and Academia-Contributing to advancements in energy studies\n",
    "- Local communities-Informed community engagement\n",
    "- Technology providers-Market identification and growth opportunities\n",
    "- Government and Regulatory Bodies-Informed decision making\n",
    "- Investors and financial institutions-Risk mitigation and informed investments\n"
   ]
  },
  {
   "cell_type": "markdown",
   "metadata": {},
   "source": [
    "### Problem statement"
   ]
  },
  {
   "cell_type": "markdown",
   "metadata": {},
   "source": [
    "The lack of a comprehensive analysis of the Global Power Plant Database hampers stakeholders' ability to make informed decisions in the evolving energy landscape. There is a need for a systematic exploration of power plant ownership, fuel types, capacity trends, and renewable energy contributions globally. This project addresses the absence of actionable insights, hindering effective decision-making for governments, investors, and energy companies, and aims to provide a clear understanding of the global energy scenario through data-driven analysis"
   ]
  },
  {
   "cell_type": "markdown",
   "metadata": {},
   "source": [
    "### Objectives"
   ]
  },
  {
   "cell_type": "markdown",
   "metadata": {},
   "source": [
    "General Objective\n",
    "\n",
    "- To develop a predictive model leveraging the analysis of the Global Power Plant Database to accurately forecast the power generation of power plants. \n",
    "\n",
    "Specific Odjectives\n",
    "\n",
    "- To investigate the distribution of power plants to identify gaps in the market."
   ]
  },
  {
   "cell_type": "markdown",
   "metadata": {},
   "source": [
    "## b) DATA UNDERSTANDING "
   ]
  },
  {
   "cell_type": "markdown",
   "metadata": {},
   "source": [
    "The Global Power Plant Database is a comprehensive, open source database of power plants around the world. It centralizes power plant data to make it easier to navigate, compare and draw insights for one’s own analysis. The database covers approximately 35,000 power plants from 167 countries and includes thermal plants (e.g. coal, gas, oil, nuclear, biomass, waste, geothermal) and renewables (e.g. hydro, wind, solar). Each power plant is geolocated and entries contain information on plant capacity, generation, ownership, and fuel type.\n",
    "\n",
    "The dataset contains the following columns with their descriptions:\n",
    "\n",
    "- `country` (text): 3 character country code corresponding to the ISO 3166-1 alpha-3 specification [4]\n",
    "- `country_long` (text): longer form of the country designation\n",
    "- `name` (text): name or title of the power plant, generally in Romanized form\n",
    "- `gppd_idnr` (text): 10 or 12 character identifier for the power plant\n",
    "- `capacity_mw` (number): electrical generating capacity in megawatts\n",
    "- `latitude` (number): geolocation in decimal degrees; WGS84 (EPSG:4326)\n",
    "- `longitude` (number): geolocation in decimal degrees; WGS84 (EPSG:4326)\n",
    "- `fuel (text): energy source used in electricity generation or export\n",
    "- `commissioning_year` (number): year of plant operation, weighted by unit-capacity when data is available\n",
    "- `owner` (text): majority shareholder of the power plant, generally in Romanized form\n",
    "- `source` (text): entity reporting the data; could be an organization, report, or document, generally in Romanized form\n",
    "- `url` (text): web document corresponding to the `source` field\n",
    "- `geolocation_source` (text): attribution for geolocation information\n",
    "- `year_of_capacity_data` (number): year the capacity information was reported\n",
    "- `generation_gwh_ (number): electricity generation in gigawatt-hours reported \n",
    "- `estimated_generation_gwh` (number): estimated annual electricity generation in gigawatt-hours\n",
    "\n",
    "The database is available for immediate download and use through the http://datasets.wri.org/dataset/globalpowerplantdatabase"
   ]
  },
  {
   "cell_type": "code",
   "execution_count": null,
   "metadata": {},
   "outputs": [],
   "source": []
  }
 ],
 "metadata": {
  "kernelspec": {
<<<<<<< HEAD
   "display_name": "Python 3",
=======
   "display_name": "Python 3 (ipykernel)",
>>>>>>> 7ea82782fe500af1940e20fb5774135a56a9449f
   "language": "python",
   "name": "python3"
  },
  "language_info": {
   "codemirror_mode": {
    "name": "ipython",
    "version": 3
   },
   "file_extension": ".py",
   "mimetype": "text/x-python",
   "name": "python",
   "nbconvert_exporter": "python",
   "pygments_lexer": "ipython3",
<<<<<<< HEAD
   "version": "3.8.5"
=======
   "version": "3.11.4"
>>>>>>> 7ea82782fe500af1940e20fb5774135a56a9449f
  }
 },
 "nbformat": 4,
 "nbformat_minor": 2
}
